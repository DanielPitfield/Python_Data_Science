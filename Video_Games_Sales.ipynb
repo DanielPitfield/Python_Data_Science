{
  "nbformat": 4,
  "nbformat_minor": 0,
  "metadata": {
    "colab": {
      "name": "Video Games Sales",
      "provenance": [],
      "collapsed_sections": [],
      "authorship_tag": "ABX9TyNMHW+noleKXtabSFc5IUoN"
    },
    "kernelspec": {
      "name": "python3",
      "display_name": "Python 3"
    },
    "widgets": {
      "application/vnd.jupyter.widget-state+json": {
        "75f5dcc15a2543e4bd99608717fdbe0b": {
          "model_module": "@jupyter-widgets/controls",
          "model_name": "TextModel",
          "state": {
            "_view_name": "TextView",
            "style": "IPY_MODEL_f6e2fc19547b47b6acc96177c5b59243",
            "_dom_classes": [],
            "description": "",
            "_model_name": "TextModel",
            "placeholder": "Search for a game:",
            "_view_module": "@jupyter-widgets/controls",
            "_model_module_version": "1.5.0",
            "value": "",
            "_view_count": null,
            "disabled": false,
            "_view_module_version": "1.5.0",
            "continuous_update": true,
            "description_tooltip": null,
            "_model_module": "@jupyter-widgets/controls",
            "layout": "IPY_MODEL_39120c06ab714234b9009602e5e5bd8f"
          }
        },
        "f6e2fc19547b47b6acc96177c5b59243": {
          "model_module": "@jupyter-widgets/controls",
          "model_name": "DescriptionStyleModel",
          "state": {
            "_view_name": "StyleView",
            "_model_name": "DescriptionStyleModel",
            "description_width": "",
            "_view_module": "@jupyter-widgets/base",
            "_model_module_version": "1.5.0",
            "_view_count": null,
            "_view_module_version": "1.2.0",
            "_model_module": "@jupyter-widgets/controls"
          }
        },
        "39120c06ab714234b9009602e5e5bd8f": {
          "model_module": "@jupyter-widgets/base",
          "model_name": "LayoutModel",
          "state": {
            "_view_name": "LayoutView",
            "grid_template_rows": null,
            "right": null,
            "justify_content": null,
            "_view_module": "@jupyter-widgets/base",
            "overflow": null,
            "_model_module_version": "1.2.0",
            "_view_count": null,
            "flex_flow": null,
            "width": null,
            "min_width": null,
            "border": null,
            "align_items": null,
            "bottom": null,
            "_model_module": "@jupyter-widgets/base",
            "top": null,
            "grid_column": null,
            "overflow_y": null,
            "overflow_x": null,
            "grid_auto_flow": null,
            "grid_area": null,
            "grid_template_columns": null,
            "flex": null,
            "_model_name": "LayoutModel",
            "justify_items": null,
            "grid_row": null,
            "max_height": null,
            "align_content": null,
            "visibility": null,
            "align_self": null,
            "height": null,
            "min_height": null,
            "padding": null,
            "grid_auto_rows": null,
            "grid_gap": null,
            "max_width": null,
            "order": null,
            "_view_module_version": "1.2.0",
            "grid_template_areas": null,
            "object_position": null,
            "object_fit": null,
            "grid_auto_columns": null,
            "margin": null,
            "display": null,
            "left": null
          }
        },
        "663c5c3038594deaaf7e533cbeaaba8a": {
          "model_module": "@jupyter-widgets/controls",
          "model_name": "DropdownModel",
          "state": {
            "_options_labels": [
              "Choose a platform:",
              "Wii",
              "NES",
              "GB",
              "DS",
              "X360",
              "PS3",
              "PS2",
              "SNES",
              "GBA",
              "3DS",
              "PS4",
              "N64",
              "PS",
              "XB",
              "PC",
              "2600",
              "PSP",
              "XOne",
              "GC",
              "WiiU",
              "GEN",
              "DC",
              "PSV",
              "SAT",
              "SCD",
              "WS",
              "NG",
              "TG16",
              "3DO",
              "GG",
              "PCFX"
            ],
            "_view_name": "DropdownView",
            "style": "IPY_MODEL_bd24c2d7de08491eaf89ed6006d07f28",
            "_dom_classes": [],
            "description": "",
            "_model_name": "DropdownModel",
            "index": 16,
            "_view_module": "@jupyter-widgets/controls",
            "_model_module_version": "1.5.0",
            "_view_count": null,
            "disabled": false,
            "_view_module_version": "1.5.0",
            "description_tooltip": null,
            "_model_module": "@jupyter-widgets/controls",
            "layout": "IPY_MODEL_280b2dd68bf0484a8a5f68dc6ffc6bb5"
          }
        },
        "bd24c2d7de08491eaf89ed6006d07f28": {
          "model_module": "@jupyter-widgets/controls",
          "model_name": "DescriptionStyleModel",
          "state": {
            "_view_name": "StyleView",
            "_model_name": "DescriptionStyleModel",
            "description_width": "",
            "_view_module": "@jupyter-widgets/base",
            "_model_module_version": "1.5.0",
            "_view_count": null,
            "_view_module_version": "1.2.0",
            "_model_module": "@jupyter-widgets/controls"
          }
        },
        "280b2dd68bf0484a8a5f68dc6ffc6bb5": {
          "model_module": "@jupyter-widgets/base",
          "model_name": "LayoutModel",
          "state": {
            "_view_name": "LayoutView",
            "grid_template_rows": null,
            "right": null,
            "justify_content": null,
            "_view_module": "@jupyter-widgets/base",
            "overflow": null,
            "_model_module_version": "1.2.0",
            "_view_count": null,
            "flex_flow": null,
            "width": null,
            "min_width": null,
            "border": null,
            "align_items": null,
            "bottom": null,
            "_model_module": "@jupyter-widgets/base",
            "top": null,
            "grid_column": null,
            "overflow_y": null,
            "overflow_x": null,
            "grid_auto_flow": null,
            "grid_area": null,
            "grid_template_columns": null,
            "flex": null,
            "_model_name": "LayoutModel",
            "justify_items": null,
            "grid_row": null,
            "max_height": null,
            "align_content": null,
            "visibility": null,
            "align_self": null,
            "height": null,
            "min_height": null,
            "padding": null,
            "grid_auto_rows": null,
            "grid_gap": null,
            "max_width": null,
            "order": null,
            "_view_module_version": "1.2.0",
            "grid_template_areas": null,
            "object_position": null,
            "object_fit": null,
            "grid_auto_columns": null,
            "margin": null,
            "display": null,
            "left": null
          }
        },
        "d89289c8744345299e124ef6932fc506": {
          "model_module": "@jupyter-widgets/controls",
          "model_name": "DropdownModel",
          "state": {
            "_options_labels": [
              "Choose a platform:",
              "Wii",
              "NES",
              "GB",
              "DS",
              "X360",
              "PS3",
              "PS2",
              "SNES",
              "GBA",
              "3DS",
              "PS4",
              "N64",
              "PS",
              "XB",
              "PC",
              "2600",
              "PSP",
              "XOne",
              "GC",
              "WiiU",
              "GEN",
              "DC",
              "PSV",
              "SAT",
              "SCD",
              "WS",
              "NG",
              "TG16",
              "3DO",
              "GG",
              "PCFX"
            ],
            "_view_name": "DropdownView",
            "style": "IPY_MODEL_9aba7c877b8342f1b09de658ea082476",
            "_dom_classes": [],
            "description": "",
            "_model_name": "DropdownModel",
            "index": 10,
            "_view_module": "@jupyter-widgets/controls",
            "_model_module_version": "1.5.0",
            "_view_count": null,
            "disabled": false,
            "_view_module_version": "1.5.0",
            "description_tooltip": null,
            "_model_module": "@jupyter-widgets/controls",
            "layout": "IPY_MODEL_d60baa1d3f3a445f9a0836548a2c82e8"
          }
        },
        "9aba7c877b8342f1b09de658ea082476": {
          "model_module": "@jupyter-widgets/controls",
          "model_name": "DescriptionStyleModel",
          "state": {
            "_view_name": "StyleView",
            "_model_name": "DescriptionStyleModel",
            "description_width": "",
            "_view_module": "@jupyter-widgets/base",
            "_model_module_version": "1.5.0",
            "_view_count": null,
            "_view_module_version": "1.2.0",
            "_model_module": "@jupyter-widgets/controls"
          }
        },
        "d60baa1d3f3a445f9a0836548a2c82e8": {
          "model_module": "@jupyter-widgets/base",
          "model_name": "LayoutModel",
          "state": {
            "_view_name": "LayoutView",
            "grid_template_rows": null,
            "right": null,
            "justify_content": null,
            "_view_module": "@jupyter-widgets/base",
            "overflow": null,
            "_model_module_version": "1.2.0",
            "_view_count": null,
            "flex_flow": null,
            "width": null,
            "min_width": null,
            "border": null,
            "align_items": null,
            "bottom": null,
            "_model_module": "@jupyter-widgets/base",
            "top": null,
            "grid_column": null,
            "overflow_y": null,
            "overflow_x": null,
            "grid_auto_flow": null,
            "grid_area": null,
            "grid_template_columns": null,
            "flex": null,
            "_model_name": "LayoutModel",
            "justify_items": null,
            "grid_row": null,
            "max_height": null,
            "align_content": null,
            "visibility": null,
            "align_self": null,
            "height": null,
            "min_height": null,
            "padding": null,
            "grid_auto_rows": null,
            "grid_gap": null,
            "max_width": null,
            "order": null,
            "_view_module_version": "1.2.0",
            "grid_template_areas": null,
            "object_position": null,
            "object_fit": null,
            "grid_auto_columns": null,
            "margin": null,
            "display": null,
            "left": null
          }
        },
        "9ae16ff75153455ebe63dfafa47c2227": {
          "model_module": "@jupyter-widgets/controls",
          "model_name": "DropdownModel",
          "state": {
            "_options_labels": [
              "Choose a year:",
              "1980",
              "1981",
              "1982",
              "1983",
              "1984",
              "1985",
              "1986",
              "1987",
              "1988",
              "1989",
              "1990",
              "1991",
              "1992",
              "1993",
              "1994",
              "1995",
              "1996",
              "1997",
              "1998",
              "1999",
              "2000",
              "2001",
              "2002",
              "2003",
              "2004",
              "2005",
              "2006",
              "2007",
              "2008",
              "2009",
              "2010",
              "2011",
              "2012",
              "2013",
              "2014",
              "2015",
              "2016",
              "2017",
              "2018",
              "2019",
              "2020"
            ],
            "_view_name": "DropdownView",
            "style": "IPY_MODEL_7fafb0f5ca804457bd113af271318a83",
            "_dom_classes": [],
            "description": "",
            "_model_name": "DropdownModel",
            "index": 18,
            "_view_module": "@jupyter-widgets/controls",
            "_model_module_version": "1.5.0",
            "_view_count": null,
            "disabled": false,
            "_view_module_version": "1.5.0",
            "description_tooltip": null,
            "_model_module": "@jupyter-widgets/controls",
            "layout": "IPY_MODEL_f30fc80c5105440abe0b7a262975bedf"
          }
        },
        "7fafb0f5ca804457bd113af271318a83": {
          "model_module": "@jupyter-widgets/controls",
          "model_name": "DescriptionStyleModel",
          "state": {
            "_view_name": "StyleView",
            "_model_name": "DescriptionStyleModel",
            "description_width": "",
            "_view_module": "@jupyter-widgets/base",
            "_model_module_version": "1.5.0",
            "_view_count": null,
            "_view_module_version": "1.2.0",
            "_model_module": "@jupyter-widgets/controls"
          }
        },
        "f30fc80c5105440abe0b7a262975bedf": {
          "model_module": "@jupyter-widgets/base",
          "model_name": "LayoutModel",
          "state": {
            "_view_name": "LayoutView",
            "grid_template_rows": null,
            "right": null,
            "justify_content": null,
            "_view_module": "@jupyter-widgets/base",
            "overflow": null,
            "_model_module_version": "1.2.0",
            "_view_count": null,
            "flex_flow": null,
            "width": null,
            "min_width": null,
            "border": null,
            "align_items": null,
            "bottom": null,
            "_model_module": "@jupyter-widgets/base",
            "top": null,
            "grid_column": null,
            "overflow_y": null,
            "overflow_x": null,
            "grid_auto_flow": null,
            "grid_area": null,
            "grid_template_columns": null,
            "flex": null,
            "_model_name": "LayoutModel",
            "justify_items": null,
            "grid_row": null,
            "max_height": null,
            "align_content": null,
            "visibility": null,
            "align_self": null,
            "height": null,
            "min_height": null,
            "padding": null,
            "grid_auto_rows": null,
            "grid_gap": null,
            "max_width": null,
            "order": null,
            "_view_module_version": "1.2.0",
            "grid_template_areas": null,
            "object_position": null,
            "object_fit": null,
            "grid_auto_columns": null,
            "margin": null,
            "display": null,
            "left": null
          }
        }
      }
    }
  },
  "cells": [
    {
      "cell_type": "markdown",
      "metadata": {
        "id": "F9paIJCL8ZIN",
        "colab_type": "text"
      },
      "source": [
        "# Video Game Sales Data Analysis"
      ]
    },
    {
      "cell_type": "markdown",
      "metadata": {
        "id": "8vOUzL3l5oGR",
        "colab_type": "text"
      },
      "source": [
        "## Reading 'vgsales.csv' file\n",
        "The 'Video Game Sales' dataset is read into a dataframe from a GitHub repository (using a URL)\n",
        "\n",
        "The first 5 rows are shown to indiciate the dataset has been successfully read:"
      ]
    },
    {
      "cell_type": "code",
      "metadata": {
        "colab_type": "code",
        "id": "YCMcv24S5mVk",
        "colab": {
          "base_uri": "https://localhost:8080/",
          "height": 204
        },
        "outputId": "9bad5c7d-6ed5-467c-ee1c-38c541936d15"
      },
      "source": [
        "import pandas as pd\n",
        "url = 'https://raw.githubusercontent.com/DanielPitfield/Python_Data_Science/master/vgsales.csv'\n",
        "sales = pd.read_csv(url) # Read data\n",
        "sales.head() # Return first 5 rows"
      ],
      "execution_count": 24,
      "outputs": [
        {
          "output_type": "execute_result",
          "data": {
            "text/html": [
              "<div>\n",
              "<style scoped>\n",
              "    .dataframe tbody tr th:only-of-type {\n",
              "        vertical-align: middle;\n",
              "    }\n",
              "\n",
              "    .dataframe tbody tr th {\n",
              "        vertical-align: top;\n",
              "    }\n",
              "\n",
              "    .dataframe thead th {\n",
              "        text-align: right;\n",
              "    }\n",
              "</style>\n",
              "<table border=\"1\" class=\"dataframe\">\n",
              "  <thead>\n",
              "    <tr style=\"text-align: right;\">\n",
              "      <th></th>\n",
              "      <th>Rank</th>\n",
              "      <th>Name</th>\n",
              "      <th>Platform</th>\n",
              "      <th>Year</th>\n",
              "      <th>Genre</th>\n",
              "      <th>Publisher</th>\n",
              "      <th>NA_Sales</th>\n",
              "      <th>EU_Sales</th>\n",
              "      <th>JP_Sales</th>\n",
              "      <th>Other_Sales</th>\n",
              "      <th>Global_Sales</th>\n",
              "    </tr>\n",
              "  </thead>\n",
              "  <tbody>\n",
              "    <tr>\n",
              "      <th>0</th>\n",
              "      <td>1</td>\n",
              "      <td>Wii Sports</td>\n",
              "      <td>Wii</td>\n",
              "      <td>2006.0</td>\n",
              "      <td>Sports</td>\n",
              "      <td>Nintendo</td>\n",
              "      <td>41.49</td>\n",
              "      <td>29.02</td>\n",
              "      <td>3.77</td>\n",
              "      <td>8.46</td>\n",
              "      <td>82.74</td>\n",
              "    </tr>\n",
              "    <tr>\n",
              "      <th>1</th>\n",
              "      <td>2</td>\n",
              "      <td>Super Mario Bros.</td>\n",
              "      <td>NES</td>\n",
              "      <td>1985.0</td>\n",
              "      <td>Platform</td>\n",
              "      <td>Nintendo</td>\n",
              "      <td>29.08</td>\n",
              "      <td>3.58</td>\n",
              "      <td>6.81</td>\n",
              "      <td>0.77</td>\n",
              "      <td>40.24</td>\n",
              "    </tr>\n",
              "    <tr>\n",
              "      <th>2</th>\n",
              "      <td>3</td>\n",
              "      <td>Mario Kart Wii</td>\n",
              "      <td>Wii</td>\n",
              "      <td>2008.0</td>\n",
              "      <td>Racing</td>\n",
              "      <td>Nintendo</td>\n",
              "      <td>15.85</td>\n",
              "      <td>12.88</td>\n",
              "      <td>3.79</td>\n",
              "      <td>3.31</td>\n",
              "      <td>35.82</td>\n",
              "    </tr>\n",
              "    <tr>\n",
              "      <th>3</th>\n",
              "      <td>4</td>\n",
              "      <td>Wii Sports Resort</td>\n",
              "      <td>Wii</td>\n",
              "      <td>2009.0</td>\n",
              "      <td>Sports</td>\n",
              "      <td>Nintendo</td>\n",
              "      <td>15.75</td>\n",
              "      <td>11.01</td>\n",
              "      <td>3.28</td>\n",
              "      <td>2.96</td>\n",
              "      <td>33.00</td>\n",
              "    </tr>\n",
              "    <tr>\n",
              "      <th>4</th>\n",
              "      <td>5</td>\n",
              "      <td>Pokemon Red/Pokemon Blue</td>\n",
              "      <td>GB</td>\n",
              "      <td>1996.0</td>\n",
              "      <td>Role-Playing</td>\n",
              "      <td>Nintendo</td>\n",
              "      <td>11.27</td>\n",
              "      <td>8.89</td>\n",
              "      <td>10.22</td>\n",
              "      <td>1.00</td>\n",
              "      <td>31.37</td>\n",
              "    </tr>\n",
              "  </tbody>\n",
              "</table>\n",
              "</div>"
            ],
            "text/plain": [
              "   Rank                      Name Platform  ...  JP_Sales Other_Sales Global_Sales\n",
              "0     1                Wii Sports      Wii  ...      3.77        8.46        82.74\n",
              "1     2         Super Mario Bros.      NES  ...      6.81        0.77        40.24\n",
              "2     3            Mario Kart Wii      Wii  ...      3.79        3.31        35.82\n",
              "3     4         Wii Sports Resort      Wii  ...      3.28        2.96        33.00\n",
              "4     5  Pokemon Red/Pokemon Blue       GB  ...     10.22        1.00        31.37\n",
              "\n",
              "[5 rows x 11 columns]"
            ]
          },
          "metadata": {
            "tags": []
          },
          "execution_count": 24
        }
      ]
    },
    {
      "cell_type": "markdown",
      "metadata": {
        "id": "EVgNvtxP6TpS",
        "colab_type": "text"
      },
      "source": [
        "## Missing values\n",
        "The number of missing values for each column in the dataset is next identified:"
      ]
    },
    {
      "cell_type": "code",
      "metadata": {
        "id": "8YOqtVjC4NiY",
        "colab_type": "code",
        "colab": {
          "base_uri": "https://localhost:8080/",
          "height": 221
        },
        "outputId": "bea92497-96ea-4632-91b3-9db199289f1a"
      },
      "source": [
        "sales.isnull().sum()"
      ],
      "execution_count": 25,
      "outputs": [
        {
          "output_type": "execute_result",
          "data": {
            "text/plain": [
              "Rank              0\n",
              "Name              0\n",
              "Platform          0\n",
              "Year            271\n",
              "Genre             0\n",
              "Publisher        58\n",
              "NA_Sales          0\n",
              "EU_Sales          0\n",
              "JP_Sales          0\n",
              "Other_Sales       0\n",
              "Global_Sales      0\n",
              "dtype: int64"
            ]
          },
          "metadata": {
            "tags": []
          },
          "execution_count": 25
        }
      ]
    },
    {
      "cell_type": "markdown",
      "metadata": {
        "id": "hdQ92R6w6cl3",
        "colab_type": "text"
      },
      "source": [
        "The 'Year' value for 271 games is missing\n",
        "\n",
        "The 'Publisher' value for 58 games is missing"
      ]
    },
    {
      "cell_type": "markdown",
      "metadata": {
        "id": "gow1j2Vr7Nhl",
        "colab_type": "text"
      },
      "source": [
        "## Distribution of Global Sales variable (Histogram)"
      ]
    },
    {
      "cell_type": "code",
      "metadata": {
        "scrolled": true,
        "id": "EVlEvVeF2gtf",
        "colab_type": "code",
        "colab": {
          "base_uri": "https://localhost:8080/",
          "height": 312
        },
        "outputId": "8804366a-65f0-40a3-decf-a343217dc295"
      },
      "source": [
        "%matplotlib inline\n",
        "import matplotlib.pyplot as plt\n",
        "\n",
        "plt.hist(sales['Global_Sales'],bins=20)\n",
        "plt.title('Histogram of Global Sales variable')\n",
        "plt.xlabel('Global Sales (in millions)')\n",
        "plt.ylabel('Frequency')"
      ],
      "execution_count": 26,
      "outputs": [
        {
          "output_type": "execute_result",
          "data": {
            "text/plain": [
              "Text(0, 0.5, 'Frequency')"
            ]
          },
          "metadata": {
            "tags": []
          },
          "execution_count": 26
        },
        {
          "output_type": "display_data",
          "data": {
            "image/png": "[encoded data removed]",
            "text/plain": [
              "<Figure size 432x288 with 1 Axes>"
            ]
          },
          "metadata": {
            "tags": [],
            "needs_background": "light"
          }
        }
      ]
    },
    {
      "cell_type": "markdown",
      "metadata": {
        "id": "8NHoHmDj7Wsc",
        "colab_type": "text"
      },
      "source": [
        "## Distribution of Global Sales variable (Boxplot)"
      ]
    },
    {
      "cell_type": "code",
      "metadata": {
        "id": "znpXYxyZ2gtm",
        "colab_type": "code",
        "colab": {
          "base_uri": "https://localhost:8080/",
          "height": 280
        },
        "outputId": "b73acfb5-ece6-440c-b45c-c515a763e783"
      },
      "source": [
        "import seaborn as sns\n",
        "\n",
        "sns.set_style(\"whitegrid\")\n",
        "ax = sns.boxplot(x='Global_Sales', data=sales, width=0.8)"
      ],
      "execution_count": 27,
      "outputs": [
        {
          "output_type": "display_data",
          "data": {
            "image/png": "[encoded data removed]",
            "text/plain": [
              "<Figure size 432x288 with 1 Axes>"
            ]
          },
          "metadata": {
            "tags": []
          }
        }
      ]
    },
    {
      "cell_type": "markdown",
      "metadata": {
        "id": "cCb9YeJTT0dK",
        "colab_type": "text"
      },
      "source": [
        "## Platform - Global Sales"
      ]
    },
    {
      "cell_type": "code",
      "metadata": {
        "colab_type": "code",
        "id": "ybhNEpYFTw3w",
        "colab": {
          "base_uri": "https://localhost:8080/",
          "height": 621
        },
        "outputId": "ecf09a68-0c01-44e3-8bd3-f53975e6799f"
      },
      "source": [
        "Platforms = pd.unique(sales['Platform'])\n",
        "TotalSales = []\n",
        "\n",
        "for x in Platforms:\n",
        "  TotalSales.append(sales[sales['Platform'] == x]['Global_Sales'].sum())\n",
        "\n",
        "plt.figure(figsize=(20,10))\n",
        "plt.xlabel('Platform')\n",
        "plt.ylabel('Global Sales (in millions')\n",
        "plt.title('Global Sales of all games by platform')\n",
        "plt.bar(Platforms, TotalSales)\n",
        "plt.show()"
      ],
      "execution_count": 28,
      "outputs": [
        {
          "output_type": "display_data",
          "data": {
            "image/png": "[encoded data removed]",
            "text/plain": [
              "<Figure size 1440x720 with 1 Axes>"
            ]
          },
          "metadata": {
            "tags": []
          }
        }
      ]
    },
    {
      "cell_type": "markdown",
      "metadata": {
        "id": "bLIBQD61QdDi",
        "colab_type": "text"
      },
      "source": [
        "## Search for video game (by name)\n",
        "Enter a search term in the field and press 'Enter'\n",
        "\n",
        "(All video games including that search term will be returned) "
      ]
    },
    {
      "cell_type": "code",
      "metadata": {
        "id": "0CqNDNbCI5VM",
        "colab_type": "code",
        "colab": {
          "base_uri": "https://localhost:8080/",
          "height": 49,
          "referenced_widgets": [
            "75f5dcc15a2543e4bd99608717fdbe0b",
            "f6e2fc19547b47b6acc96177c5b59243",
            "39120c06ab714234b9009602e5e5bd8f"
          ]
        },
        "outputId": "339dcd59-c534-4cd8-ecd3-3d808559faf9"
      },
      "source": [
        "import ipywidgets as widgets\n",
        "from IPython.display import clear_output\n",
        "\n",
        "name_search = widgets.Text(\n",
        "    placeholder='Search for a game:',\n",
        "    disabled=False\n",
        ")\n",
        "display(name_search) # Text input\n",
        "\n",
        "def callback(wdgt):\n",
        "    val = wdgt.value\n",
        "    clear_output(wait=True) # Clear previous output (if any)\n",
        "    display(name_search) # Show text input again\n",
        "    display(sales[sales['Name'].str.contains(val)])\n",
        "\n",
        "name_search.on_submit(callback)"
      ],
      "execution_count": 29,
      "outputs": [
        {
          "output_type": "display_data",
          "data": {
            "application/vnd.jupyter.widget-view+json": {
              "model_id": "75f5dcc15a2543e4bd99608717fdbe0b",
              "version_minor": 0,
              "version_major": 2
            },
            "text/plain": [
              "Text(value='', placeholder='Search for a game:')"
            ]
          },
          "metadata": {
            "tags": []
          }
        }
      ]
    },
    {
      "cell_type": "markdown",
      "metadata": {
        "id": "Hc9DDWmrR4MR",
        "colab_type": "text"
      },
      "source": [
        "## Platform Sales - Region Distribution\n",
        "Select a platform from the dropdown list\n",
        "\n",
        "(A pie chart showing the regional distirbution of sales for the chosen platform will be displayed) "
      ]
    },
    {
      "cell_type": "code",
      "metadata": {
        "id": "2przjNtBQZhH",
        "colab_type": "code",
        "colab": {
          "base_uri": "https://localhost:8080/",
          "height": 296,
          "referenced_widgets": [
            "663c5c3038594deaaf7e533cbeaaba8a",
            "bd24c2d7de08491eaf89ed6006d07f28",
            "280b2dd68bf0484a8a5f68dc6ffc6bb5"
          ]
        },
        "outputId": "4d42e1be-2c84-442a-b0dc-ec63c6657873"
      },
      "source": [
        "import numpy as np\n",
        "\n",
        "labels = 'NA', 'EU', 'JP', 'Other'\n",
        "sizes = []\n",
        "colors = ['gold', 'yellowgreen', 'lightcoral', 'lightskyblue']\n",
        "\n",
        "Platforms = np.append(\"Choose a platform:\", pd.unique(sales['Platform']))\n",
        "\n",
        "platform_picker = widgets.Dropdown(\n",
        "    options = Platforms, \n",
        "    value = 'Choose a platform:',\n",
        "    disabled = False,\n",
        ")\n",
        "\n",
        "def on_change(change): # When dropdown value is changed\n",
        "    if change['type'] == 'change' and change['name'] == 'value':\n",
        "        val = change['new'] # Get changed value\n",
        "\n",
        "        if val != 'Choose a platform:':\n",
        "          sizes = [] # Reset this array\n",
        "          clear_output(wait=True) # Clear previous output (if any)\n",
        "          display(platform_picker) # Show text input again\n",
        "\n",
        "          Total_Sales = sales[sales['Platform'] == val]['Global_Sales'].sum()\n",
        "\n",
        "          NA_Sales = sales[sales['Platform'] == val]['NA_Sales'].sum()\n",
        "          sizes.append((NA_Sales/Total_Sales)*100) # Percentage of Total Sales that are NA Sales\n",
        "\n",
        "          EU_Sales = sales[sales['Platform'] == val]['EU_Sales'].sum()\n",
        "          sizes.append((EU_Sales/Total_Sales)*100)\n",
        "\n",
        "          JP_Sales = sales[sales['Platform'] == val]['JP_Sales'].sum()\n",
        "          sizes.append((JP_Sales/Total_Sales)*100)\n",
        "\n",
        "          Other_Sales = sales[sales['Platform'] == val]['Other_Sales'].sum()\n",
        "          sizes.append((Other_Sales/Total_Sales)*100)\n",
        "\n",
        "          # Plot\n",
        "          plt.pie(sizes, labels=labels, autopct='%1.1f%%', shadow=True, startangle=0)\n",
        "          plt.axis('equal')\n",
        "          plt.title(val)\n",
        "          plt.show()\n",
        "\n",
        "platform_picker.observe(on_change)\n",
        "display(platform_picker)"
      ],
      "execution_count": 35,
      "outputs": [
        {
          "output_type": "display_data",
          "data": {
            "application/vnd.jupyter.widget-view+json": {
              "model_id": "663c5c3038594deaaf7e533cbeaaba8a",
              "version_minor": 0,
              "version_major": 2
            },
            "text/plain": [
              "Dropdown(index=16, options=('Choose a platform:', 'Wii', 'NES', 'GB', 'DS', 'X360', 'PS3', 'PS2', 'SNES', 'GBA…"
            ]
          },
          "metadata": {
            "tags": []
          }
        },
        {
          "output_type": "display_data",
          "data": {
            "image/png": "[encoded data removed]",
            "text/plain": [
              "<Figure size 432x288 with 1 Axes>"
            ]
          },
          "metadata": {
            "tags": []
          }
        }
      ]
    },
    {
      "cell_type": "markdown",
      "metadata": {
        "id": "-wjD3bZe2HYo",
        "colab_type": "text"
      },
      "source": [
        "## Top 10 Best Selling Games (Platform)"
      ]
    },
    {
      "cell_type": "code",
      "metadata": {
        "colab_type": "code",
        "id": "HvSuu5Mp1_Cg",
        "colab": {
          "base_uri": "https://localhost:8080/",
          "height": 995,
          "referenced_widgets": [
            "d89289c8744345299e124ef6932fc506",
            "9aba7c877b8342f1b09de658ea082476",
            "d60baa1d3f3a445f9a0836548a2c82e8",
            "663c5c3038594deaaf7e533cbeaaba8a",
            "bd24c2d7de08491eaf89ed6006d07f28",
            "280b2dd68bf0484a8a5f68dc6ffc6bb5"
          ]
        },
        "outputId": "630f889e-e73c-4546-8c3e-6f7f115f60d0"
      },
      "source": [
        "display(platform_picker)\n",
        "\n",
        "def on_change_platform(change): # When dropdown value is changed\n",
        "    if change['type'] == 'change' and change['name'] == 'value':\n",
        "        val = change['new'] # Get changed value\n",
        "\n",
        "        if val != 'Choose a platform:':\n",
        "          num_rows = 0\n",
        "          clear_output(wait=True) # Clear previous output (if any)\n",
        "          display(platform_picker) # Show text input again\n",
        "\n",
        "          sales_filter_platform = sales[sales['Platform'] == val].nlargest(10, 'Global_Sales')\n",
        "          num_rows = sales_filter_platform.shape[0] # Number of rows in filtered dataset\n",
        "\n",
        "          if num_rows > 0: # At least one row for that year\n",
        "            display(sales_filter_platform)\n",
        "\n",
        "            bar_title = \"Top 10 Best Selling Games on \" + str(val)\n",
        "            x_width = num_rows * 2 # Chnage graph width based on number of rows (0-10 rows possible)\n",
        "\n",
        "            ax_platform = sales_filter_platform.plot(x='Name', y='Global_Sales', kind='bar', title = bar_title, legend=False, figsize=(x_width, 10))\n",
        "\n",
        "            ax_platform.set_xlabel('Name')\n",
        "            ax_platform.tick_params(axis='x', labelrotation=0) # Horizontal bar labels for x axis\n",
        "            ax_platform.set_ylabel('Global Sales (in millions')\n",
        "            ax_platform.plot()\n",
        "          else:\n",
        "            print(\"No games for that platform\")\n",
        "\n",
        "platform_picker.observe(on_change_platform)"
      ],
      "execution_count": 31,
      "outputs": [
        {
          "output_type": "display_data",
          "data": {
            "application/vnd.jupyter.widget-view+json": {
              "model_id": "663c5c3038594deaaf7e533cbeaaba8a",
              "version_minor": 0,
              "version_major": 2
            },
            "text/plain": [
              "Dropdown(index=16, options=('Choose a platform:', 'Wii', 'NES', 'GB', 'DS', 'X360', 'PS3', 'PS2', 'SNES', 'GBA…"
            ]
          },
          "metadata": {
            "tags": []
          }
        },
        {
          "output_type": "display_data",
          "data": {
            "text/html": [
              "<div>\n",
              "<style scoped>\n",
              "    .dataframe tbody tr th:only-of-type {\n",
              "        vertical-align: middle;\n",
              "    }\n",
              "\n",
              "    .dataframe tbody tr th {\n",
              "        vertical-align: top;\n",
              "    }\n",
              "\n",
              "    .dataframe thead th {\n",
              "        text-align: right;\n",
              "    }\n",
              "</style>\n",
              "<table border=\"1\" class=\"dataframe\">\n",
              "  <thead>\n",
              "    <tr style=\"text-align: right;\">\n",
              "      <th></th>\n",
              "      <th>Rank</th>\n",
              "      <th>Name</th>\n",
              "      <th>Platform</th>\n",
              "      <th>Year</th>\n",
              "      <th>Genre</th>\n",
              "      <th>Publisher</th>\n",
              "      <th>NA_Sales</th>\n",
              "      <th>EU_Sales</th>\n",
              "      <th>JP_Sales</th>\n",
              "      <th>Other_Sales</th>\n",
              "      <th>Global_Sales</th>\n",
              "    </tr>\n",
              "  </thead>\n",
              "  <tbody>\n",
              "    <tr>\n",
              "      <th>32</th>\n",
              "      <td>33</td>\n",
              "      <td>Pokemon X/Pokemon Y</td>\n",
              "      <td>3DS</td>\n",
              "      <td>2013.0</td>\n",
              "      <td>Role-Playing</td>\n",
              "      <td>Nintendo</td>\n",
              "      <td>5.17</td>\n",
              "      <td>4.05</td>\n",
              "      <td>4.34</td>\n",
              "      <td>0.79</td>\n",
              "      <td>14.35</td>\n",
              "    </tr>\n",
              "    <tr>\n",
              "      <th>42</th>\n",
              "      <td>43</td>\n",
              "      <td>Mario Kart 7</td>\n",
              "      <td>3DS</td>\n",
              "      <td>2011.0</td>\n",
              "      <td>Racing</td>\n",
              "      <td>Nintendo</td>\n",
              "      <td>4.74</td>\n",
              "      <td>3.91</td>\n",
              "      <td>2.67</td>\n",
              "      <td>0.89</td>\n",
              "      <td>12.21</td>\n",
              "    </tr>\n",
              "    <tr>\n",
              "      <th>49</th>\n",
              "      <td>50</td>\n",
              "      <td>Pokemon Omega Ruby/Pokemon Alpha Sapphire</td>\n",
              "      <td>3DS</td>\n",
              "      <td>2014.0</td>\n",
              "      <td>Role-Playing</td>\n",
              "      <td>Nintendo</td>\n",
              "      <td>4.23</td>\n",
              "      <td>3.37</td>\n",
              "      <td>3.08</td>\n",
              "      <td>0.65</td>\n",
              "      <td>11.33</td>\n",
              "    </tr>\n",
              "    <tr>\n",
              "      <th>53</th>\n",
              "      <td>54</td>\n",
              "      <td>Super Mario 3D Land</td>\n",
              "      <td>3DS</td>\n",
              "      <td>2011.0</td>\n",
              "      <td>Platform</td>\n",
              "      <td>Nintendo</td>\n",
              "      <td>4.89</td>\n",
              "      <td>2.99</td>\n",
              "      <td>2.13</td>\n",
              "      <td>0.78</td>\n",
              "      <td>10.79</td>\n",
              "    </tr>\n",
              "    <tr>\n",
              "      <th>64</th>\n",
              "      <td>65</td>\n",
              "      <td>New Super Mario Bros. 2</td>\n",
              "      <td>3DS</td>\n",
              "      <td>2012.0</td>\n",
              "      <td>Platform</td>\n",
              "      <td>Nintendo</td>\n",
              "      <td>3.66</td>\n",
              "      <td>3.07</td>\n",
              "      <td>2.47</td>\n",
              "      <td>0.63</td>\n",
              "      <td>9.82</td>\n",
              "    </tr>\n",
              "    <tr>\n",
              "      <th>73</th>\n",
              "      <td>74</td>\n",
              "      <td>Animal Crossing: New Leaf</td>\n",
              "      <td>3DS</td>\n",
              "      <td>2012.0</td>\n",
              "      <td>Simulation</td>\n",
              "      <td>Nintendo</td>\n",
              "      <td>2.01</td>\n",
              "      <td>2.32</td>\n",
              "      <td>4.36</td>\n",
              "      <td>0.41</td>\n",
              "      <td>9.09</td>\n",
              "    </tr>\n",
              "    <tr>\n",
              "      <th>97</th>\n",
              "      <td>98</td>\n",
              "      <td>Super Smash Bros. for Wii U and 3DS</td>\n",
              "      <td>3DS</td>\n",
              "      <td>2014.0</td>\n",
              "      <td>Fighting</td>\n",
              "      <td>Nintendo</td>\n",
              "      <td>3.24</td>\n",
              "      <td>1.35</td>\n",
              "      <td>2.42</td>\n",
              "      <td>0.43</td>\n",
              "      <td>7.45</td>\n",
              "    </tr>\n",
              "    <tr>\n",
              "      <th>188</th>\n",
              "      <td>189</td>\n",
              "      <td>Tomodachi Life</td>\n",
              "      <td>3DS</td>\n",
              "      <td>2013.0</td>\n",
              "      <td>Simulation</td>\n",
              "      <td>Nintendo</td>\n",
              "      <td>0.96</td>\n",
              "      <td>2.02</td>\n",
              "      <td>1.89</td>\n",
              "      <td>0.28</td>\n",
              "      <td>5.15</td>\n",
              "    </tr>\n",
              "    <tr>\n",
              "      <th>234</th>\n",
              "      <td>235</td>\n",
              "      <td>Luigi's Mansion: Dark Moon</td>\n",
              "      <td>3DS</td>\n",
              "      <td>2013.0</td>\n",
              "      <td>Action</td>\n",
              "      <td>Nintendo</td>\n",
              "      <td>1.78</td>\n",
              "      <td>1.39</td>\n",
              "      <td>1.10</td>\n",
              "      <td>0.30</td>\n",
              "      <td>4.58</td>\n",
              "    </tr>\n",
              "    <tr>\n",
              "      <th>268</th>\n",
              "      <td>269</td>\n",
              "      <td>The Legend of Zelda: Ocarina of Time</td>\n",
              "      <td>3DS</td>\n",
              "      <td>2011.0</td>\n",
              "      <td>Action</td>\n",
              "      <td>Nintendo</td>\n",
              "      <td>2.03</td>\n",
              "      <td>1.27</td>\n",
              "      <td>0.62</td>\n",
              "      <td>0.30</td>\n",
              "      <td>4.21</td>\n",
              "    </tr>\n",
              "  </tbody>\n",
              "</table>\n",
              "</div>"
            ],
            "text/plain": [
              "     Rank                                       Name  ... Other_Sales  Global_Sales\n",
              "32     33                        Pokemon X/Pokemon Y  ...        0.79         14.35\n",
              "42     43                               Mario Kart 7  ...        0.89         12.21\n",
              "49     50  Pokemon Omega Ruby/Pokemon Alpha Sapphire  ...        0.65         11.33\n",
              "53     54                        Super Mario 3D Land  ...        0.78         10.79\n",
              "64     65                    New Super Mario Bros. 2  ...        0.63          9.82\n",
              "73     74                  Animal Crossing: New Leaf  ...        0.41          9.09\n",
              "97     98        Super Smash Bros. for Wii U and 3DS  ...        0.43          7.45\n",
              "188   189                             Tomodachi Life  ...        0.28          5.15\n",
              "234   235                 Luigi's Mansion: Dark Moon  ...        0.30          4.58\n",
              "268   269       The Legend of Zelda: Ocarina of Time  ...        0.30          4.21\n",
              "\n",
              "[10 rows x 11 columns]"
            ]
          },
          "metadata": {
            "tags": []
          }
        },
        {
          "output_type": "display_data",
          "data": {
            "image/png": "[encoded data removed]",
            "text/plain": [
              "<Figure size 1440x720 with 1 Axes>"
            ]
          },
          "metadata": {
            "tags": []
          }
        }
      ]
    },
    {
      "cell_type": "markdown",
      "metadata": {
        "id": "BoA6O49oUtzf",
        "colab_type": "text"
      },
      "source": [
        "## Top 10 Best Selling Games (Year)"
      ]
    },
    {
      "cell_type": "code",
      "metadata": {
        "id": "2-KW5FgDUzn_",
        "colab_type": "code",
        "colab": {
          "base_uri": "https://localhost:8080/",
          "height": 995,
          "referenced_widgets": [
            "9ae16ff75153455ebe63dfafa47c2227",
            "7fafb0f5ca804457bd113af271318a83",
            "f30fc80c5105440abe0b7a262975bedf"
          ]
        },
        "outputId": "886b7c25-37b9-4ea3-d936-79173e34594d"
      },
      "source": [
        "Years = [\"Choose a year:\"]\n",
        "for x in range (1980, 2021): # Change to use minimum and maximum values of dataset not hardcoded values\n",
        "  Years.append(x)\n",
        "\n",
        "year_picker = widgets.Dropdown(\n",
        "    options = Years,\n",
        "    value = \"Choose a year:\", \n",
        "    disabled = False,\n",
        ")\n",
        "\n",
        "def on_change_year(change):\n",
        "    if change['type'] == 'change' and change['name'] == 'value':\n",
        "        val = change['new']\n",
        "\n",
        "        if val != 'Choose a year:':\n",
        "          num_rows = 0\n",
        "          clear_output(wait=True)\n",
        "          display(year_picker)\n",
        "\n",
        "          sales_filter_year = sales[sales['Year'] == val].nlargest(10, 'Global_Sales')\n",
        "          num_rows = sales_filter_year.shape[0] # Number of rows in filtered dataset\n",
        "\n",
        "          if num_rows > 0: # At least one row for that year\n",
        "            display(sales_filter_year)\n",
        "\n",
        "            bar_title = \"Top 10 Best Selling Games in \" + str(val)\n",
        "            x_width = num_rows * 2 # Chnage graph width based on number of rows (0-10 rows possible)\n",
        "\n",
        "            ax = sales_filter_year.plot(x='Name', y='Global_Sales', kind='bar', title = bar_title, legend=False, figsize=(x_width, 10))\n",
        "\n",
        "            ax.set_xlabel('Name')\n",
        "            ax.tick_params(axis='x', labelrotation=0) # Horizontal bar labels for x axis\n",
        "            ax.set_ylabel('Global Sales (in millions')\n",
        "            ax.plot()\n",
        "          else:\n",
        "            print(\"No games for that year\")\n",
        "\n",
        "year_picker.observe(on_change_year)\n",
        "display(year_picker)"
      ],
      "execution_count": 32,
      "outputs": [
        {
          "output_type": "display_data",
          "data": {
            "application/vnd.jupyter.widget-view+json": {
              "model_id": "9ae16ff75153455ebe63dfafa47c2227",
              "version_minor": 0,
              "version_major": 2
            },
            "text/plain": [
              "Dropdown(index=18, options=('Choose a year:', 1980, 1981, 1982, 1983, 1984, 1985, 1986, 1987, 1988, 1989, 1990…"
            ]
          },
          "metadata": {
            "tags": []
          }
        },
        {
          "output_type": "display_data",
          "data": {
            "text/html": [
              "<div>\n",
              "<style scoped>\n",
              "    .dataframe tbody tr th:only-of-type {\n",
              "        vertical-align: middle;\n",
              "    }\n",
              "\n",
              "    .dataframe tbody tr th {\n",
              "        vertical-align: top;\n",
              "    }\n",
              "\n",
              "    .dataframe thead th {\n",
              "        text-align: right;\n",
              "    }\n",
              "</style>\n",
              "<table border=\"1\" class=\"dataframe\">\n",
              "  <thead>\n",
              "    <tr style=\"text-align: right;\">\n",
              "      <th></th>\n",
              "      <th>Rank</th>\n",
              "      <th>Name</th>\n",
              "      <th>Platform</th>\n",
              "      <th>Year</th>\n",
              "      <th>Genre</th>\n",
              "      <th>Publisher</th>\n",
              "      <th>NA_Sales</th>\n",
              "      <th>EU_Sales</th>\n",
              "      <th>JP_Sales</th>\n",
              "      <th>Other_Sales</th>\n",
              "      <th>Global_Sales</th>\n",
              "    </tr>\n",
              "  </thead>\n",
              "  <tbody>\n",
              "    <tr>\n",
              "      <th>52</th>\n",
              "      <td>53</td>\n",
              "      <td>Gran Turismo</td>\n",
              "      <td>PS</td>\n",
              "      <td>1997.0</td>\n",
              "      <td>Racing</td>\n",
              "      <td>Sony Computer Entertainment</td>\n",
              "      <td>4.02</td>\n",
              "      <td>3.87</td>\n",
              "      <td>2.54</td>\n",
              "      <td>0.52</td>\n",
              "      <td>10.95</td>\n",
              "    </tr>\n",
              "    <tr>\n",
              "      <th>66</th>\n",
              "      <td>67</td>\n",
              "      <td>Final Fantasy VII</td>\n",
              "      <td>PS</td>\n",
              "      <td>1997.0</td>\n",
              "      <td>Role-Playing</td>\n",
              "      <td>Sony Computer Entertainment</td>\n",
              "      <td>3.01</td>\n",
              "      <td>2.47</td>\n",
              "      <td>3.28</td>\n",
              "      <td>0.96</td>\n",
              "      <td>9.72</td>\n",
              "    </tr>\n",
              "    <tr>\n",
              "      <th>84</th>\n",
              "      <td>85</td>\n",
              "      <td>GoldenEye 007</td>\n",
              "      <td>N64</td>\n",
              "      <td>1997.0</td>\n",
              "      <td>Shooter</td>\n",
              "      <td>Nintendo</td>\n",
              "      <td>5.80</td>\n",
              "      <td>2.01</td>\n",
              "      <td>0.13</td>\n",
              "      <td>0.15</td>\n",
              "      <td>8.09</td>\n",
              "    </tr>\n",
              "    <tr>\n",
              "      <th>95</th>\n",
              "      <td>96</td>\n",
              "      <td>Crash Bandicoot 2: Cortex Strikes Back</td>\n",
              "      <td>PS</td>\n",
              "      <td>1997.0</td>\n",
              "      <td>Platform</td>\n",
              "      <td>Sony Computer Entertainment</td>\n",
              "      <td>3.78</td>\n",
              "      <td>2.17</td>\n",
              "      <td>1.31</td>\n",
              "      <td>0.31</td>\n",
              "      <td>7.58</td>\n",
              "    </tr>\n",
              "    <tr>\n",
              "      <th>178</th>\n",
              "      <td>179</td>\n",
              "      <td>Tomb Raider II</td>\n",
              "      <td>PS</td>\n",
              "      <td>1997.0</td>\n",
              "      <td>Action</td>\n",
              "      <td>Eidos Interactive</td>\n",
              "      <td>2.30</td>\n",
              "      <td>2.46</td>\n",
              "      <td>0.20</td>\n",
              "      <td>0.28</td>\n",
              "      <td>5.24</td>\n",
              "    </tr>\n",
              "    <tr>\n",
              "      <th>213</th>\n",
              "      <td>214</td>\n",
              "      <td>Diddy Kong Racing</td>\n",
              "      <td>N64</td>\n",
              "      <td>1997.0</td>\n",
              "      <td>Racing</td>\n",
              "      <td>Nintendo</td>\n",
              "      <td>2.91</td>\n",
              "      <td>0.99</td>\n",
              "      <td>0.89</td>\n",
              "      <td>0.10</td>\n",
              "      <td>4.88</td>\n",
              "    </tr>\n",
              "    <tr>\n",
              "      <th>278</th>\n",
              "      <td>279</td>\n",
              "      <td>Frogger</td>\n",
              "      <td>PS</td>\n",
              "      <td>1997.0</td>\n",
              "      <td>Action</td>\n",
              "      <td>Hasbro Interactive</td>\n",
              "      <td>3.79</td>\n",
              "      <td>0.27</td>\n",
              "      <td>0.00</td>\n",
              "      <td>0.11</td>\n",
              "      <td>4.16</td>\n",
              "    </tr>\n",
              "    <tr>\n",
              "      <th>281</th>\n",
              "      <td>282</td>\n",
              "      <td>Half-Life</td>\n",
              "      <td>PC</td>\n",
              "      <td>1997.0</td>\n",
              "      <td>Shooter</td>\n",
              "      <td>Vivendi Games</td>\n",
              "      <td>4.03</td>\n",
              "      <td>0.00</td>\n",
              "      <td>0.09</td>\n",
              "      <td>0.00</td>\n",
              "      <td>4.12</td>\n",
              "    </tr>\n",
              "    <tr>\n",
              "      <th>296</th>\n",
              "      <td>297</td>\n",
              "      <td>Star Fox 64</td>\n",
              "      <td>N64</td>\n",
              "      <td>1997.0</td>\n",
              "      <td>Shooter</td>\n",
              "      <td>Nintendo</td>\n",
              "      <td>2.78</td>\n",
              "      <td>0.58</td>\n",
              "      <td>0.64</td>\n",
              "      <td>0.04</td>\n",
              "      <td>4.03</td>\n",
              "    </tr>\n",
              "    <tr>\n",
              "      <th>359</th>\n",
              "      <td>360</td>\n",
              "      <td>Croc: Legend of the Gobbos</td>\n",
              "      <td>PS</td>\n",
              "      <td>1997.0</td>\n",
              "      <td>Platform</td>\n",
              "      <td>Fox Interactive</td>\n",
              "      <td>1.57</td>\n",
              "      <td>1.79</td>\n",
              "      <td>0.00</td>\n",
              "      <td>0.20</td>\n",
              "      <td>3.56</td>\n",
              "    </tr>\n",
              "  </tbody>\n",
              "</table>\n",
              "</div>"
            ],
            "text/plain": [
              "     Rank                                    Name  ... Other_Sales  Global_Sales\n",
              "52     53                            Gran Turismo  ...        0.52         10.95\n",
              "66     67                       Final Fantasy VII  ...        0.96          9.72\n",
              "84     85                           GoldenEye 007  ...        0.15          8.09\n",
              "95     96  Crash Bandicoot 2: Cortex Strikes Back  ...        0.31          7.58\n",
              "178   179                          Tomb Raider II  ...        0.28          5.24\n",
              "213   214                       Diddy Kong Racing  ...        0.10          4.88\n",
              "278   279                                 Frogger  ...        0.11          4.16\n",
              "281   282                               Half-Life  ...        0.00          4.12\n",
              "296   297                             Star Fox 64  ...        0.04          4.03\n",
              "359   360              Croc: Legend of the Gobbos  ...        0.20          3.56\n",
              "\n",
              "[10 rows x 11 columns]"
            ]
          },
          "metadata": {
            "tags": []
          }
        },
        {
          "output_type": "display_data",
          "data": {
            "image/png": "[encoded data removed]",
            "text/plain": [
              "<Figure size 1440x720 with 1 Axes>"
            ]
          },
          "metadata": {
            "tags": []
          }
        }
      ]
    },
    {
      "cell_type": "markdown",
      "metadata": {
        "id": "oL6_eGnhYJCc",
        "colab_type": "text"
      },
      "source": [
        "## Platform Genre Sales"
      ]
    }
  ]
}