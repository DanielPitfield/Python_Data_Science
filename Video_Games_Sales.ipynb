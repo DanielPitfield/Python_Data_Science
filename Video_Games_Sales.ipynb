{
  "nbformat": 4,
  "nbformat_minor": 0,
  "metadata": {
    "colab": {
      "name": "Video Games Sales",
      "provenance": [],
      "collapsed_sections": [],
      "authorship_tag": "ABX9TyNSSbnhzHttgMFExB0w5gLu"
    },
    "kernelspec": {
      "name": "python3",
      "display_name": "Python 3"
    },
    "widgets": {
      "application/vnd.jupyter.widget-state+json": {
        "662f487997f44ff899ace567e8171072": {
          "model_module": "@jupyter-widgets/controls",
          "model_name": "VBoxModel",
          "state": {
            "_view_name": "VBoxView",
            "_dom_classes": [
              "widget-interact"
            ],
            "_model_name": "VBoxModel",
            "_view_module": "@jupyter-widgets/controls",
            "_model_module_version": "1.5.0",
            "_view_count": null,
            "_view_module_version": "1.5.0",
            "box_style": "",
            "layout": "IPY_MODEL_858602159ce84c26b7da9e4b517aa24f",
            "_model_module": "@jupyter-widgets/controls",
            "children": [
              "IPY_MODEL_330d1b58b5cb43bfb008982bd9f278f5",
              "IPY_MODEL_611461a7bb084978b500b87e3de9d9d9"
            ]
          }
        },
        "858602159ce84c26b7da9e4b517aa24f": {
          "model_module": "@jupyter-widgets/base",
          "model_name": "LayoutModel",
          "state": {
            "_view_name": "LayoutView",
            "grid_template_rows": null,
            "right": null,
            "justify_content": null,
            "_view_module": "@jupyter-widgets/base",
            "overflow": null,
            "_model_module_version": "1.2.0",
            "_view_count": null,
            "flex_flow": null,
            "width": null,
            "min_width": null,
            "border": null,
            "align_items": null,
            "bottom": null,
            "_model_module": "@jupyter-widgets/base",
            "top": null,
            "grid_column": null,
            "overflow_y": null,
            "overflow_x": null,
            "grid_auto_flow": null,
            "grid_area": null,
            "grid_template_columns": null,
            "flex": null,
            "_model_name": "LayoutModel",
            "justify_items": null,
            "grid_row": null,
            "max_height": null,
            "align_content": null,
            "visibility": null,
            "align_self": null,
            "height": null,
            "min_height": null,
            "padding": null,
            "grid_auto_rows": null,
            "grid_gap": null,
            "max_width": null,
            "order": null,
            "_view_module_version": "1.2.0",
            "grid_template_areas": null,
            "object_position": null,
            "object_fit": null,
            "grid_auto_columns": null,
            "margin": null,
            "display": null,
            "left": null
          }
        },
        "330d1b58b5cb43bfb008982bd9f278f5": {
          "model_module": "@jupyter-widgets/controls",
          "model_name": "TextModel",
          "state": {
            "_view_name": "TextView",
            "style": "IPY_MODEL_436815d1ad604f6ba2e1bc9d73ccba83",
            "_dom_classes": [],
            "description": "Name",
            "_model_name": "TextModel",
            "placeholder": "​",
            "_view_module": "@jupyter-widgets/controls",
            "_model_module_version": "1.5.0",
            "value": "Halo",
            "_view_count": null,
            "disabled": false,
            "_view_module_version": "1.5.0",
            "continuous_update": true,
            "description_tooltip": null,
            "_model_module": "@jupyter-widgets/controls",
            "layout": "IPY_MODEL_87011a7f24264190a9d167e461f44028"
          }
        },
        "611461a7bb084978b500b87e3de9d9d9": {
          "model_module": "@jupyter-widgets/output",
          "model_name": "OutputModel",
          "state": {
            "_view_name": "OutputView",
            "msg_id": "",
            "_dom_classes": [],
            "_model_name": "OutputModel",
            "outputs": [
              {
                "output_type": "display_data",
                "metadata": {
                  "tags": []
                },
                "text/html": "<div>\n<style scoped>\n    .dataframe tbody tr th:only-of-type {\n        vertical-align: middle;\n    }\n\n    .dataframe tbody tr th {\n        vertical-align: top;\n    }\n\n    .dataframe thead th {\n        text-align: right;\n    }\n</style>\n<table border=\"1\" class=\"dataframe\">\n  <thead>\n    <tr style=\"text-align: right;\">\n      <th></th>\n      <th>Rank</th>\n      <th>Name</th>\n      <th>Platform</th>\n      <th>Year</th>\n      <th>Genre</th>\n      <th>Publisher</th>\n      <th>NA_Sales</th>\n      <th>EU_Sales</th>\n      <th>JP_Sales</th>\n      <th>Other_Sales</th>\n      <th>Global_Sales</th>\n    </tr>\n  </thead>\n  <tbody>\n    <tr>\n      <th>43</th>\n      <td>44</td>\n      <td>Halo 3</td>\n      <td>X360</td>\n      <td>2007.0</td>\n      <td>Shooter</td>\n      <td>Microsoft Game Studios</td>\n      <td>7.97</td>\n      <td>2.83</td>\n      <td>0.13</td>\n      <td>1.21</td>\n      <td>12.14</td>\n    </tr>\n    <tr>\n      <th>62</th>\n      <td>63</td>\n      <td>Halo: Reach</td>\n      <td>X360</td>\n      <td>2010.0</td>\n      <td>Shooter</td>\n      <td>Microsoft Game Studios</td>\n      <td>7.03</td>\n      <td>1.98</td>\n      <td>0.08</td>\n      <td>0.78</td>\n      <td>9.88</td>\n    </tr>\n    <tr>\n      <th>65</th>\n      <td>66</td>\n      <td>Halo 4</td>\n      <td>X360</td>\n      <td>2012.0</td>\n      <td>Shooter</td>\n      <td>Microsoft Game Studios</td>\n      <td>6.63</td>\n      <td>2.36</td>\n      <td>0.04</td>\n      <td>0.73</td>\n      <td>9.76</td>\n    </tr>\n    <tr>\n      <th>79</th>\n      <td>80</td>\n      <td>Halo 2</td>\n      <td>XB</td>\n      <td>2004.0</td>\n      <td>Shooter</td>\n      <td>Microsoft Game Studios</td>\n      <td>6.82</td>\n      <td>1.53</td>\n      <td>0.05</td>\n      <td>0.08</td>\n      <td>8.49</td>\n    </tr>\n    <tr>\n      <th>129</th>\n      <td>130</td>\n      <td>Halo: Combat Evolved</td>\n      <td>XB</td>\n      <td>2001.0</td>\n      <td>Shooter</td>\n      <td>Microsoft Game Studios</td>\n      <td>4.98</td>\n      <td>1.30</td>\n      <td>0.08</td>\n      <td>0.07</td>\n      <td>6.43</td>\n    </tr>\n    <tr>\n      <th>133</th>\n      <td>134</td>\n      <td>Halo 3: ODST</td>\n      <td>X360</td>\n      <td>2009.0</td>\n      <td>Shooter</td>\n      <td>Microsoft Game Studios</td>\n      <td>4.34</td>\n      <td>1.35</td>\n      <td>0.06</td>\n      <td>0.61</td>\n      <td>6.36</td>\n    </tr>\n    <tr>\n      <th>260</th>\n      <td>261</td>\n      <td>Halo 5: Guardians</td>\n      <td>XOne</td>\n      <td>2015.0</td>\n      <td>Shooter</td>\n      <td>Microsoft Game Studios</td>\n      <td>2.64</td>\n      <td>1.20</td>\n      <td>0.03</td>\n      <td>0.39</td>\n      <td>4.26</td>\n    </tr>\n    <tr>\n      <th>439</th>\n      <td>440</td>\n      <td>Halo: The Master Chief Collection</td>\n      <td>XOne</td>\n      <td>2014.0</td>\n      <td>Shooter</td>\n      <td>Microsoft Game Studios</td>\n      <td>1.89</td>\n      <td>0.99</td>\n      <td>0.03</td>\n      <td>0.24</td>\n      <td>3.15</td>\n    </tr>\n    <tr>\n      <th>578</th>\n      <td>579</td>\n      <td>Halo Wars</td>\n      <td>X360</td>\n      <td>2009.0</td>\n      <td>Strategy</td>\n      <td>Microsoft Game Studios</td>\n      <td>1.53</td>\n      <td>0.82</td>\n      <td>0.04</td>\n      <td>0.24</td>\n      <td>2.63</td>\n    </tr>\n    <tr>\n      <th>632</th>\n      <td>633</td>\n      <td>Halo: Combat Evolved Anniversary</td>\n      <td>X360</td>\n      <td>2011.0</td>\n      <td>Shooter</td>\n      <td>Microsoft Game Studios</td>\n      <td>1.44</td>\n      <td>0.73</td>\n      <td>0.04</td>\n      <td>0.22</td>\n      <td>2.44</td>\n    </tr>\n    <tr>\n      <th>2949</th>\n      <td>2951</td>\n      <td>Halo 2 Multiplayer Map Pack</td>\n      <td>XB</td>\n      <td>2005.0</td>\n      <td>Shooter</td>\n      <td>Microsoft Game Studios</td>\n      <td>0.54</td>\n      <td>0.13</td>\n      <td>0.00</td>\n      <td>0.02</td>\n      <td>0.69</td>\n    </tr>\n    <tr>\n      <th>8683</th>\n      <td>8685</td>\n      <td>Halo Triple Pack</td>\n      <td>XB</td>\n      <td>2005.0</td>\n      <td>Shooter</td>\n      <td>Microsoft Game Studios</td>\n      <td>0.12</td>\n      <td>0.03</td>\n      <td>0.00</td>\n      <td>0.01</td>\n      <td>0.16</td>\n    </tr>\n    <tr>\n      <th>10816</th>\n      <td>10818</td>\n      <td>Halo 2</td>\n      <td>PC</td>\n      <td>2007.0</td>\n      <td>Shooter</td>\n      <td>Microsoft Game Studios</td>\n      <td>0.01</td>\n      <td>0.06</td>\n      <td>0.00</td>\n      <td>0.02</td>\n      <td>0.10</td>\n    </tr>\n    <tr>\n      <th>13884</th>\n      <td>13886</td>\n      <td>Halo: Combat Evolved</td>\n      <td>PC</td>\n      <td>2003.0</td>\n      <td>Shooter</td>\n      <td>Microsoft Game Studios</td>\n      <td>0.01</td>\n      <td>0.02</td>\n      <td>0.00</td>\n      <td>0.01</td>\n      <td>0.04</td>\n    </tr>\n  </tbody>\n</table>\n</div>",
                "text/plain": "        Rank                               Name  ... Other_Sales  Global_Sales\n43        44                             Halo 3  ...        1.21         12.14\n62        63                        Halo: Reach  ...        0.78          9.88\n65        66                             Halo 4  ...        0.73          9.76\n79        80                             Halo 2  ...        0.08          8.49\n129      130               Halo: Combat Evolved  ...        0.07          6.43\n133      134                       Halo 3: ODST  ...        0.61          6.36\n260      261                  Halo 5: Guardians  ...        0.39          4.26\n439      440  Halo: The Master Chief Collection  ...        0.24          3.15\n578      579                          Halo Wars  ...        0.24          2.63\n632      633   Halo: Combat Evolved Anniversary  ...        0.22          2.44\n2949    2951        Halo 2 Multiplayer Map Pack  ...        0.02          0.69\n8683    8685                   Halo Triple Pack  ...        0.01          0.16\n10816  10818                             Halo 2  ...        0.02          0.10\n13884  13886               Halo: Combat Evolved  ...        0.01          0.04\n\n[14 rows x 11 columns]"
              }
            ],
            "_view_module": "@jupyter-widgets/output",
            "_model_module_version": "1.0.0",
            "_view_count": null,
            "_view_module_version": "1.0.0",
            "layout": "IPY_MODEL_6157e31021e947e29846e0c0acb22d68",
            "_model_module": "@jupyter-widgets/output"
          }
        },
        "436815d1ad604f6ba2e1bc9d73ccba83": {
          "model_module": "@jupyter-widgets/controls",
          "model_name": "DescriptionStyleModel",
          "state": {
            "_view_name": "StyleView",
            "_model_name": "DescriptionStyleModel",
            "description_width": "",
            "_view_module": "@jupyter-widgets/base",
            "_model_module_version": "1.5.0",
            "_view_count": null,
            "_view_module_version": "1.2.0",
            "_model_module": "@jupyter-widgets/controls"
          }
        },
        "87011a7f24264190a9d167e461f44028": {
          "model_module": "@jupyter-widgets/base",
          "model_name": "LayoutModel",
          "state": {
            "_view_name": "LayoutView",
            "grid_template_rows": null,
            "right": null,
            "justify_content": null,
            "_view_module": "@jupyter-widgets/base",
            "overflow": null,
            "_model_module_version": "1.2.0",
            "_view_count": null,
            "flex_flow": null,
            "width": null,
            "min_width": null,
            "border": null,
            "align_items": null,
            "bottom": null,
            "_model_module": "@jupyter-widgets/base",
            "top": null,
            "grid_column": null,
            "overflow_y": null,
            "overflow_x": null,
            "grid_auto_flow": null,
            "grid_area": null,
            "grid_template_columns": null,
            "flex": null,
            "_model_name": "LayoutModel",
            "justify_items": null,
            "grid_row": null,
            "max_height": null,
            "align_content": null,
            "visibility": null,
            "align_self": null,
            "height": null,
            "min_height": null,
            "padding": null,
            "grid_auto_rows": null,
            "grid_gap": null,
            "max_width": null,
            "order": null,
            "_view_module_version": "1.2.0",
            "grid_template_areas": null,
            "object_position": null,
            "object_fit": null,
            "grid_auto_columns": null,
            "margin": null,
            "display": null,
            "left": null
          }
        },
        "6157e31021e947e29846e0c0acb22d68": {
          "model_module": "@jupyter-widgets/base",
          "model_name": "LayoutModel",
          "state": {
            "_view_name": "LayoutView",
            "grid_template_rows": null,
            "right": null,
            "justify_content": null,
            "_view_module": "@jupyter-widgets/base",
            "overflow": null,
            "_model_module_version": "1.2.0",
            "_view_count": null,
            "flex_flow": null,
            "width": null,
            "min_width": null,
            "border": null,
            "align_items": null,
            "bottom": null,
            "_model_module": "@jupyter-widgets/base",
            "top": null,
            "grid_column": null,
            "overflow_y": null,
            "overflow_x": null,
            "grid_auto_flow": null,
            "grid_area": null,
            "grid_template_columns": null,
            "flex": null,
            "_model_name": "LayoutModel",
            "justify_items": null,
            "grid_row": null,
            "max_height": null,
            "align_content": null,
            "visibility": null,
            "align_self": null,
            "height": null,
            "min_height": null,
            "padding": null,
            "grid_auto_rows": null,
            "grid_gap": null,
            "max_width": null,
            "order": null,
            "_view_module_version": "1.2.0",
            "grid_template_areas": null,
            "object_position": null,
            "object_fit": null,
            "grid_auto_columns": null,
            "margin": null,
            "display": null,
            "left": null
          }
        },
        "1d81d67d629c4defa847fe4c7ba64fcb": {
          "model_module": "@jupyter-widgets/controls",
          "model_name": "VBoxModel",
          "state": {
            "_view_name": "VBoxView",
            "_dom_classes": [
              "widget-interact"
            ],
            "_model_name": "VBoxModel",
            "_view_module": "@jupyter-widgets/controls",
            "_model_module_version": "1.5.0",
            "_view_count": null,
            "_view_module_version": "1.5.0",
            "box_style": "",
            "layout": "IPY_MODEL_17cfa5fc03c1499683654c152aa678b6",
            "_model_module": "@jupyter-widgets/controls",
            "children": [
              "IPY_MODEL_aa55b70257fa4efab54df88619fe3ac2",
              "IPY_MODEL_3e5ae44629884972bce9d81b36f71c76"
            ]
          }
        },
        "17cfa5fc03c1499683654c152aa678b6": {
          "model_module": "@jupyter-widgets/base",
          "model_name": "LayoutModel",
          "state": {
            "_view_name": "LayoutView",
            "grid_template_rows": null,
            "right": null,
            "justify_content": null,
            "_view_module": "@jupyter-widgets/base",
            "overflow": null,
            "_model_module_version": "1.2.0",
            "_view_count": null,
            "flex_flow": null,
            "width": null,
            "min_width": null,
            "border": null,
            "align_items": null,
            "bottom": null,
            "_model_module": "@jupyter-widgets/base",
            "top": null,
            "grid_column": null,
            "overflow_y": null,
            "overflow_x": null,
            "grid_auto_flow": null,
            "grid_area": null,
            "grid_template_columns": null,
            "flex": null,
            "_model_name": "LayoutModel",
            "justify_items": null,
            "grid_row": null,
            "max_height": null,
            "align_content": null,
            "visibility": null,
            "align_self": null,
            "height": null,
            "min_height": null,
            "padding": null,
            "grid_auto_rows": null,
            "grid_gap": null,
            "max_width": null,
            "order": null,
            "_view_module_version": "1.2.0",
            "grid_template_areas": null,
            "object_position": null,
            "object_fit": null,
            "grid_auto_columns": null,
            "margin": null,
            "display": null,
            "left": null
          }
        },
        "aa55b70257fa4efab54df88619fe3ac2": {
          "model_module": "@jupyter-widgets/controls",
          "model_name": "DropdownModel",
          "state": {
            "_options_labels": [
              "",
              "Wii",
              "NES",
              "GB",
              "DS",
              "X360",
              "PS3",
              "PS2",
              "SNES",
              "GBA",
              "3DS",
              "PS4",
              "N64",
              "PS",
              "XB",
              "PC",
              "2600",
              "PSP",
              "XOne",
              "GC",
              "WiiU",
              "GEN",
              "DC",
              "PSV",
              "SAT",
              "SCD",
              "WS",
              "NG",
              "TG16",
              "3DO",
              "GG",
              "PCFX"
            ],
            "_view_name": "DropdownView",
            "style": "IPY_MODEL_b0f416e6a65741b0a55ecd69a9824b18",
            "_dom_classes": [],
            "description": "Platform",
            "_model_name": "DropdownModel",
            "index": 11,
            "_view_module": "@jupyter-widgets/controls",
            "_model_module_version": "1.5.0",
            "_view_count": null,
            "disabled": false,
            "_view_module_version": "1.5.0",
            "description_tooltip": null,
            "_model_module": "@jupyter-widgets/controls",
            "layout": "IPY_MODEL_4d128a7bac824088bf4b73331f29034e"
          }
        },
        "3e5ae44629884972bce9d81b36f71c76": {
          "model_module": "@jupyter-widgets/output",
          "model_name": "OutputModel",
          "state": {
            "_view_name": "OutputView",
            "msg_id": "",
            "_dom_classes": [],
            "_model_name": "OutputModel",
            "outputs": [
              {
                "output_type": "display_data",
                "metadata": {
                  "tags": []
                },
                "image/png": "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\n",
                "text/plain": "<Figure size 432x288 with 1 Axes>"
              }
            ],
            "_view_module": "@jupyter-widgets/output",
            "_model_module_version": "1.0.0",
            "_view_count": null,
            "_view_module_version": "1.0.0",
            "layout": "IPY_MODEL_800c442bcae44db3b79d9eadde945062",
            "_model_module": "@jupyter-widgets/output"
          }
        },
        "b0f416e6a65741b0a55ecd69a9824b18": {
          "model_module": "@jupyter-widgets/controls",
          "model_name": "DescriptionStyleModel",
          "state": {
            "_view_name": "StyleView",
            "_model_name": "DescriptionStyleModel",
            "description_width": "",
            "_view_module": "@jupyter-widgets/base",
            "_model_module_version": "1.5.0",
            "_view_count": null,
            "_view_module_version": "1.2.0",
            "_model_module": "@jupyter-widgets/controls"
          }
        },
        "4d128a7bac824088bf4b73331f29034e": {
          "model_module": "@jupyter-widgets/base",
          "model_name": "LayoutModel",
          "state": {
            "_view_name": "LayoutView",
            "grid_template_rows": null,
            "right": null,
            "justify_content": null,
            "_view_module": "@jupyter-widgets/base",
            "overflow": null,
            "_model_module_version": "1.2.0",
            "_view_count": null,
            "flex_flow": null,
            "width": null,
            "min_width": null,
            "border": null,
            "align_items": null,
            "bottom": null,
            "_model_module": "@jupyter-widgets/base",
            "top": null,
            "grid_column": null,
            "overflow_y": null,
            "overflow_x": null,
            "grid_auto_flow": null,
            "grid_area": null,
            "grid_template_columns": null,
            "flex": null,
            "_model_name": "LayoutModel",
            "justify_items": null,
            "grid_row": null,
            "max_height": null,
            "align_content": null,
            "visibility": null,
            "align_self": null,
            "height": null,
            "min_height": null,
            "padding": null,
            "grid_auto_rows": null,
            "grid_gap": null,
            "max_width": null,
            "order": null,
            "_view_module_version": "1.2.0",
            "grid_template_areas": null,
            "object_position": null,
            "object_fit": null,
            "grid_auto_columns": null,
            "margin": null,
            "display": null,
            "left": null
          }
        },
        "800c442bcae44db3b79d9eadde945062": {
          "model_module": "@jupyter-widgets/base",
          "model_name": "LayoutModel",
          "state": {
            "_view_name": "LayoutView",
            "grid_template_rows": null,
            "right": null,
            "justify_content": null,
            "_view_module": "@jupyter-widgets/base",
            "overflow": null,
            "_model_module_version": "1.2.0",
            "_view_count": null,
            "flex_flow": null,
            "width": null,
            "min_width": null,
            "border": null,
            "align_items": null,
            "bottom": null,
            "_model_module": "@jupyter-widgets/base",
            "top": null,
            "grid_column": null,
            "overflow_y": null,
            "overflow_x": null,
            "grid_auto_flow": null,
            "grid_area": null,
            "grid_template_columns": null,
            "flex": null,
            "_model_name": "LayoutModel",
            "justify_items": null,
            "grid_row": null,
            "max_height": null,
            "align_content": null,
            "visibility": null,
            "align_self": null,
            "height": null,
            "min_height": null,
            "padding": null,
            "grid_auto_rows": null,
            "grid_gap": null,
            "max_width": null,
            "order": null,
            "_view_module_version": "1.2.0",
            "grid_template_areas": null,
            "object_position": null,
            "object_fit": null,
            "grid_auto_columns": null,
            "margin": null,
            "display": null,
            "left": null
          }
        },
        "a5df479ac14e49f1885cdd339ec27958": {
          "model_module": "@jupyter-widgets/controls",
          "model_name": "VBoxModel",
          "state": {
            "_view_name": "VBoxView",
            "_dom_classes": [
              "widget-interact"
            ],
            "_model_name": "VBoxModel",
            "_view_module": "@jupyter-widgets/controls",
            "_model_module_version": "1.5.0",
            "_view_count": null,
            "_view_module_version": "1.5.0",
            "box_style": "",
            "layout": "IPY_MODEL_7a85271ff7e0481ab9dd30907e034785",
            "_model_module": "@jupyter-widgets/controls",
            "children": [
              "IPY_MODEL_4508a5208a9a40c0b7596f1ba7fe96fc",
              "IPY_MODEL_0d54db065f7342d19fcfcda3e62fcca2"
            ]
          }
        },
        "7a85271ff7e0481ab9dd30907e034785": {
          "model_module": "@jupyter-widgets/base",
          "model_name": "LayoutModel",
          "state": {
            "_view_name": "LayoutView",
            "grid_template_rows": null,
            "right": null,
            "justify_content": null,
            "_view_module": "@jupyter-widgets/base",
            "overflow": null,
            "_model_module_version": "1.2.0",
            "_view_count": null,
            "flex_flow": null,
            "width": null,
            "min_width": null,
            "border": null,
            "align_items": null,
            "bottom": null,
            "_model_module": "@jupyter-widgets/base",
            "top": null,
            "grid_column": null,
            "overflow_y": null,
            "overflow_x": null,
            "grid_auto_flow": null,
            "grid_area": null,
            "grid_template_columns": null,
            "flex": null,
            "_model_name": "LayoutModel",
            "justify_items": null,
            "grid_row": null,
            "max_height": null,
            "align_content": null,
            "visibility": null,
            "align_self": null,
            "height": null,
            "min_height": null,
            "padding": null,
            "grid_auto_rows": null,
            "grid_gap": null,
            "max_width": null,
            "order": null,
            "_view_module_version": "1.2.0",
            "grid_template_areas": null,
            "object_position": null,
            "object_fit": null,
            "grid_auto_columns": null,
            "margin": null,
            "display": null,
            "left": null
          }
        },
        "4508a5208a9a40c0b7596f1ba7fe96fc": {
          "model_module": "@jupyter-widgets/controls",
          "model_name": "DropdownModel",
          "state": {
            "_options_labels": [
              "",
              "Wii",
              "NES",
              "GB",
              "DS",
              "X360",
              "PS3",
              "PS2",
              "SNES",
              "GBA",
              "3DS",
              "PS4",
              "N64",
              "PS",
              "XB",
              "PC",
              "2600",
              "PSP",
              "XOne",
              "GC",
              "WiiU",
              "GEN",
              "DC",
              "PSV",
              "SAT",
              "SCD",
              "WS",
              "NG",
              "TG16",
              "3DO",
              "GG",
              "PCFX"
            ],
            "_view_name": "DropdownView",
            "style": "IPY_MODEL_b23086758aeb4f4aabd559156674b996",
            "_dom_classes": [],
            "description": "Platform",
            "_model_name": "DropdownModel",
            "index": 1,
            "_view_module": "@jupyter-widgets/controls",
            "_model_module_version": "1.5.0",
            "_view_count": null,
            "disabled": false,
            "_view_module_version": "1.5.0",
            "description_tooltip": null,
            "_model_module": "@jupyter-widgets/controls",
            "layout": "IPY_MODEL_ae63bc96cdcc4bf583b8e824bb6dca7a"
          }
        },
        "0d54db065f7342d19fcfcda3e62fcca2": {
          "model_module": "@jupyter-widgets/output",
          "model_name": "OutputModel",
          "state": {
            "_view_name": "OutputView",
            "msg_id": "",
            "_dom_classes": [],
            "_model_name": "OutputModel",
            "outputs": [
              {
                "output_type": "display_data",
                "metadata": {
                  "tags": []
                },
                "image/png": "iVBORw0KGgoAAAANSUhEUgAABIwAAAJcCAYAAACbuD+6AAAABHNCSVQICAgIfAhkiAAAAAlwSFlzAAALEgAACxIB0t1+/AAAADh0RVh0U29mdHdhcmUAbWF0cGxvdGxpYiB2ZXJzaW9uMy4yLjIsIGh0dHA6Ly9tYXRwbG90bGliLm9yZy+WH4yJAAAgAElEQVR4nOzdeZifg73//9dkRyQkskhOXCqKOSGxhEipZaKJpUi0qS6HFgdFGmI7OQSniqijFdVYwnWppaUVJHFCkViPJZZEaTvVotRSGSIREpkkk/n94Wt+7oMxiXxm8kkej+tyXT6fT+Zzv+d+97p69dn7vlNRX19fHwAAAAD4f1q19AAAAAAArFkEIwAAAAAKBCMAAAAACgQjAAAAAAoEIwAAAAAKBCMAAAAACgQjAIBGzJo1K3vssUfD66qqqjz66KNJkiuvvDJnnnlmS43Gx3x8F2+88UZ22GGH1NXVtfBUAFC+BCMAKGM77LBDwz/bbLNN+vfv3/B62rRpq+UYd955Z7797W9nwIABOeywwz7xeXV1dQ455JAMGDAghxxySKqrqz/zuw477LBst9122WGHHbLTTjvle9/7Xp5//vkvPONhhx2WW265pdE/c8stt2TffffNDjvskK985Ss5+uij8/7773+h4/7whz/M+eef/4W+47PU19fnxhtvzIEHHpgBAwZkt912y2GHHZbp06eX5HhrmqOOOiqTJk1qeD137txsvfXWn/reW2+9VdhFr169MmfOnLRu3brZ5waAtYVgBABlbM6cOQ3/9OrVK1deeWXD64MOOmi1HGOjjTbK4YcfnqOPPvoTny1dujTHH398DjrooDz55JMZPnx4jj/++CxduvQzv+/ss8/OnDlz8sQTT2SXXXbJ6aefvlrmbMwTTzyRSy65JD//+c8zZ86c3Hnnndl///1Lftwv4rzzzst1112XsWPHZtasWXnooYdy4okn5uGHH27p0ZrFwIED89RTTzW8fvLJJ7PFFlt84r3NN9883bp1a4kRAWCtJhgBwFpo6dKlOf/887P77rtn9913z/nnn98QcT66xerKK6/MoEGDUlVV1ejVSF/5yley//77p0ePHp/47Iknnsjy5cvz/e9/P+3atcvhhx+e+vr6PP744587Y+vWrXPAAQfkxRdfbHhvxYoVmTRpUvbZZ58MGjQoJ554YhYsWJAkqa2tzamnnppBgwZl4MCB+cY3vpG33347l1xySZ566qmce+652WGHHXLuued+4ljPPfdctt9++/zrv/5rkg8j2IgRI9KxY8eG8/XTn/40e+21V77yla/k7LPPzpIlSz73d7jsssty6qmnJklee+21bL311rn99tuz1157ZdCgQbniiisa/uySJUvyH//xH9l5552z33775eqrry7c6vZxf//73/Ob3/wmP//5z7PbbrulQ4cOad26dQYOHJgLL7yw4c/deuut2W+//bLDDjtkyJAhufnmmxs++2jPV199dQYPHpzdd989M2bMyIMPPphhw4Zll112yZVXXvmFzv2nefHFF3PYYYdl4MCBOeCAAzJz5syGz8aOHZsf//jHOeaYY7LDDjtk5MiR+cc//vGp37Pzzjtn9uzZWbFiRZLkqaeeyve///388Y9/LLw3cODAz9zF8uXLP/W7AYDPJxgBwFroiiuuyB/+8IdMnTo106ZNy3PPPZfLL7+84fO333478+fPz8MPP5wLL7wwZ599dl566aWVPs4LL7yQrbfeOhUVFQ3vbb311nnhhRc+92eXLl2aO+64IwMGDGh474YbbsiMGTNy44035uGHH07nzp0bAtDtt9+e999/Pw888EBmzZqVH//4x+nQoUPGjBmTgQMHNly5dPbZZ3/iWAMGDMj//u//5he/+EWefvrpT1wBdfHFF+fvf/97pkyZknvuuSc1NTWZOHHiSp+PJHn66afz+9//Ptddd10mTpzYEMR++ctf5vXXX8+MGTNy7bXXNhrpHn/88Wy66abZbrvtGj1W165dc9VVV2X27NkZP358xo8fnz/96U8Nn7/99tupra3NQw89lNGjR2fcuHGZNm1abr311vz617/O5ZdfnldffTXJqp37/2vZsmX54Q9/mN122y2PPvpoxo0bl1NPPbXwn60777wzo0aNypNPPpnNNtssl1xyyaf+bv3798/SpUvzl7/8JcmHcWi33XbLZpttVnhv5513bvQcAQCrRjACgLXQHXfckRNOOCFdu3ZNly5dcsIJJ3wiUJx44olp165ddtlll+y555656667Vvo4ixYtyoYbblh4r2PHjlm0aNFn/sx5552XgQMHZscdd8yNN96YUaNGNXx28803Z8yYMenZs2fatWuXUaNG5e67787y5cvTpk2bLFiwIK+88kpat26dbbfdtuEKoc8zcODAXHbZZfnzn/+cY489NoMGDcr48eNTV1eX+vr6/O53v8sZZ5yRjTbaKB07dsyxxx67ys8KGjVqVDp06JBtttkm22yzTUPcuOuuu3Lsscemc+fO6dmzZw4//PDP/I758+dnk002Kby3xx57ZODAgdluu+3y+uuvJ0n22muvbLbZZqmoqMguu+yS3XbbrXDLVps2bXLcccelbdu22X///TN//vwcfvjh6dixY7785S9nyy23bHiG1Oo493/4wx+yePHiHHPMMWnXrl0GDx6cvffeu3Au99lnn/Tv3z9t2rTJQQcd9JnPvGrXrl0GDBiQJ598MgsWLMh7772XPn36ZODAgQ3vvfDCC4IRAJRIm5YeAABY/WpqatKrV6+G17169UpNTU3D606dOmX99df/zM+baoMNNvjEg6MXLVqUDTbY4DN/Zty4cRk5cmRWrFiR2bNn57jjjssNN9yQbbbZJm+88UZOOOGEtGr1//9/Wq1atcq8efNy8MEH580338zJJ5+chQsX5qCDDsqYMWPStm3bJs265557Zs8998yKFSsya9asnHjiifnSl76Ur33ta/nggw9yyCGHNPzZ+vr6htueVtbHQ896662XxYsXJ/lwJ5tuumnDZz179vzM79hoo43y1ltvFd576KGHsnz58vTr1y/19fVJkgcffDATJ07Myy+/nBUrVmTJkiXZaqutCt/z0YOfP7oiqGvXrg2ft2/fviHurY5zX1NTk549exa+o1evXpk7d+6nnp8OHTo0nJ9P89FzjHr37p0dd9wxSbLTTjvltttuS+/evbPpppumd+/en/nzAMCqc4URAKyFunfvnjfeeKPh9T//+c9079694fXChQsL/0P9/37eVB9dofJRwEiS559/PltuueXn/myrVq0ycODAbLbZZnnkkUeSfBhRrr766jz11FMN/zz33HPp0aNH2rZtm1GjRuXOO+/MzTffnAceeCBTpkxZ6ZlbtWqVwYMHZ9ddd83f/va3bLzxxunQoUOmT5/ecMynn346c+bMWenvbky3bt3y5ptvNrz++L//X7vuumvefPPNPPfcc5/5Z5YuXZrRo0fnyCOPzCOPPJKnnnoqe+yxR2EXK2N1nPvu3bvnzTffLMS2f/7zn5/6/Kum2HnnnRtm+ehZRTvuuGNmz55deA8AWP0EIwBYCx1wwAG54oor8s477+Sdd97JxIkTc+CBBxb+zGWXXZalS5fmqaeeygMPPJB99933U7+rrq4utbW1Wb58eVasWJHa2tosW7YsSbLLLrukdevWuf7667N06dLceOONST4MHk0xZ86cvPjiiw2B6Tvf+U4mTJjQcMvVO++8kxkzZiT58Lk+zz//fOrq6tKxY8e0adOm4UqWTTbZpOFZPJ9mxowZmT59et59993U19fn2WefzRNPPJEBAwakVatWGTlyZC644ILMmzcvyYd/Xfvq/tvI9ttvv1x11VV59913M3fu3IZz9Wm22GKLHHrooTn55JPzyCOPZMmSJamrqytErKVLl2bp0qXp0qVL2rRpkwcffLAhvK2KVT33H9e/f/906NAh11xzTZYtW5ZZs2blvvvuW+W/kW777bfPe++9l2nTpmWnnXZKknTu3DldunTJtGnT3I4GACXkljQAWAsdf/zxWbRoUQ466KAkyb777pvjjz++4fNNNtkknTp1yle/+tWst956+a//+q/07dv3U79r6tSp+c///M+G1/3798+IESNy4YUXpl27dpk4cWLGjRuXn/3sZ+nbt28mTpyYdu3afeZs5557bi644IKGOU466aTsueeeSdLwt6wdeeSRqampSdeuXbP//vtnn332ydtvv51zzjknc+fOzfrrr5/9998/Bx98cMPPjR07NjfddFMOPvjgjBs3rnDMzp0755e//GXOPffcLF26NN27d89RRx3VcH5OO+20TJw4Md/61rcyf/789OjRI9/5znfy1a9+dWVP/Wc64YQTcs4552TIkCHp1q1bDjzwwNx2222f+efPOeec3HDDDbnwwgvzyiuvpFOnTtl8881zySWXpFevXmnVqlXGjRuXk046KUuXLs3ee++dqqqqVZ5vVc/9x7Vr1y5XXnllfvzjH+eqq65Kjx49ctFFF33mf7Y+z/rrr59+/frlpZdeKtxqt9NOO+Wmm25yhREAlFBF/apetwwAlKVZs2bltNNOy0MPPdTSo6zTfvOb3+TOO+9s9EojAICW4pY0AIBmUFNTk6effjorVqzISy+9lGuvvTb77LNPS48FAPCp3JIGANAMli1blnPOOSevvfZaNtxwwxxwwAH57ne/29JjAQB8KrekAQAAAFDgljQAAAAACsrilrRnnnkm7du3b+kxSqa2tnat/v3WZnZX3uyvfNldebO/8mZ/5cvuypv9lS+7K29r+/5qa2uz/fbbf+pnZRGM2rdvn8rKypYeo2Sqq6vX6t9vbWZ35c3+ypfdlTf7K2/2V77srrzZX/myu/K2tu+vurr6Mz9zSxoAAAAABYIRAAAAAAWCEQAAAAAFghEAAAAABYIRAAAAAAWCEQAAAAAFghEAAAAABYIRAAAAAAWCEQAAAAAFghEAAAAABYIRAAAAAAWCEQAAAAAFghEAAAAABYIRAAAAAAWCEQAAAAAFghEAAAAABYIRAAAAAAWCEQAAAAAFghEAAAAABYIRAAAAAAWCEQAAAAAFghEAAAAABYIRAAAAAAWCEQAAAAAFgtGnWLKsrlmPV1lZ2azHa+7fDwAAACgvbVp6gDVRh7ats/nY6S09Rsm8fOEBLT0CAAAAsAZzhREAAAAABYIRAAAAAAWCEQAAAAAFghEAAAAABYIRAAAAAAWCEQAAAAAFghEAAAAABYIRAAAAAAWCEQAAAAAFghEAAAAABYIRAAAAAAWCEQAAAAAFbUr55b/61a9yyy23pKKiIltttVXGjx+fmpqanHzyyVmwYEH69euXiy66KO3atSvlGAAAAACshJJdYTR37txcf/31ufXWW/M///M/qaury/Tp03PxxRfnBz/4Qe6999506tQpkydPLtUIAAAAAKyCkt6SVldXlyVLlmT58uVZsmRJunXrlscffzzDhg1LkowYMSIzZ84s5QgAAAAArKSS3ZLWo0ePHHnkkdl7773Tvn377LbbbunXr186deqUNm0+PGzPnj0zd+7cz/2u2traVFdXl2rUT6isrGy2Y7WU5jyfa7MlS5Y4l2XM/sqX3ZU3+ytv9le+7K682V/5srvyti7vr2TB6N13383MmTMzc+bMbLjhhjnxxBPz8MMPr9J3tW/ffp2IOM3J+Vw9qqurncsyZn/ly+7Km/2VN/srX3ZX3uyvfNldeVvb99dYDCtZMHr00UfzL//yL+nSpUuSZOjQoZk9e3YWLlyY5cuXp02bNnnzzTfTo0ePUo0AAAAAwCoo2TOMevXqlT/84Q/54IMPUl9fn8ceeyxbbrllBg0alLvvvjtJcvvtt6eqqqpUIwAAAACwCkp2hdGAAQMybNiwjBgxIm3atEllZWUOPfTQ7LXXXhkzZkwmTJiQysrKjBw5slQjAAAAALAKShaMkmT06NEZPXp04b0+ffpk8uTJpTwsAAAAAF9AyW5JAwAAAKA8CUYAAAAAFAhGAAAAABQIRgAAAAAUCEYAAAAAFAhGAAAAABQIRgAAAAAUCEYAAAAAFAhGAAAAABQIRgAAAAAUCEYAAAAAFAhGAAAAABQIRgAAAAAUCEYAAAAAFAhGAAAAABQIRgAAAAAUCEYAAAAAFAhGAAAAABQIRgAAAAAUCEYAAAAAFAhGAAAAABQIRgAAAAAUCEYAAAAAFAhGAAAAABQIRgAAAAAUCEYAAAAAFAhGAAAAABQIRgAAAAAUCEYAAAAAFAhGAAAAABQIRgAAAAAUCEYAAAAAFAhGAAAAABQIRgAAAAAUCEYAAAAAFAhGAAAAABQIRgAAAAAUCEYAAAAAFAhGAAAAABQIRgAAAAAUCEYAAAAAFAhGAAAAABQIRgAAAAAUCEYAAAAAFAhGAAAAABQIRgAAAAAUCEYAAAAAFAhGAAAAABQIRgAAAAAUCEYAAAAAFAhGAAAAABQIRgAAAAAUCEYAAAAAFAhGAAAAABS0KdUXv/TSSxkzZkzD61dffTWjR4/O8OHDM2bMmLz++uvp3bt3JkyYkM6dO5dqDAAAAABWUsmuMNpiiy0yderUTJ06NbfddlvWW2+9fO1rX8ukSZMyePDg3HPPPRk8eHAmTZpUqhEAAAAAWAXNckvaY489lj59+qR3796ZOXNmhg8fniQZPnx4ZsyY0RwjAAAAANBEJbsl7eOmT5+er3/960mSefPmpXv37kmSbt26Zd68eZ/787W1tamuri7pjB9XWVnZbMdqKc15PtdmS5YscS7LmP2VL7srb/ZX3uyvfNldebO/8mV35W1d3l/Jg9HSpUtz33335ZRTTvnEZxUVFamoqPjc72jfvv06EXGak/O5elRXVzuXZcz+ypfdlTf7K2/2V77srrzZX/myu/K2tu+vsRhW8lvSHnroofTr1y+bbLJJkqRr166pqalJktTU1KRLly6lHgEAAACAlVDyYDR9+vQccMABDa+rqqoyZcqUJMmUKVMyZMiQUo8AAAAAwEooaTBavHhxHn300QwdOrThvWOOOSaPPPJIhg4dmkcffTTHHHNMKUcAAAAAYCWV9BlG66+/fmbNmlV4b+ONN851111XysMCAAAA8AWU/JY0AAAAAMqLYAQAAABAgWAEAAAAQIFgBAAAAECBYAQAAABAgWAEAAAAQIFgBAAAAECBYAQAAABAgWAEAAAAQIFgBAAAAECBYAQAAABAgWAEAAAAQIFgBAAAAECBYAQAAABAgWAEAAAAQIFgBAAAAECBYAQAAABAgWAEAAAAQIFgBAAAAECBYAQAAABAgWAEAAAAQIFgBAAAAECBYAQAAABAgWAEAAAAQIFgBAAAAECBYAQAAABAgWAEAAAAQIFgBAAAAECBYAQAAABAgWAEAAAAQIFgBAAAAECBYAQAAABAgWAEAAAAQIFgBAAAAECBYAQAAABAgWAEAAAAQIFgBAAAAECBYAQAAABAgWAEAAAAQIFgBAAAAECBYAQAAABAgWAEAAAAQIFgBAAAAECBYAQAAABAgWAEAAAAQIFgBAAAAECBYAQAAABAgWAEAAAAQIFgBAAAAECBYAQAAABAgWAEAAAAQIFgBAAAAECBYAQAAABAQUmD0cKFCzN69Ojsu+++2W+//TJnzpwsWLAgRxxxRIYOHZojjjgi7777bilHAAAAAGAllTQYnX/++fnqV7+a3//+95k6dWr69u2bSZMmZfDgwbnnnnsyePDgTJo0qZQjAAAAALCSShaM3nvvvTz55JP55je/mSRp165dOnXqlJkzZ2b48OFJkuHDh2fGjBmlGgEAAACAVdCmVF/82muvpUuXLvnP//zP/OUvf0m/fv1y5plnZt68eenevXuSpFu3bpk3b97nfldtbW2qq6tLNeonVFZWNtuxWkpzns+12ZIlS5zLMmZ/5cvuypv9lTf7K192V97sr3zZXXlbl/dXsmC0fPny/PnPf85ZZ52VAQMG5LzzzvvE7WcVFRWpqKj43O9q3779OhFxmpPzuXpUV1c7l2XM/sqX3ZU3+ytv9le+7K682V/5srvytrbvr7EYVrJb0nr27JmePXtmwIABSZJ99903f/7zn9O1a9fU1NQkSWpqatKlS5dSjQAAAADAKihZMOrWrVt69uyZl156KUny2GOPpW/fvqmqqsqUKVOSJFOmTMmQIUNKNQIAAAAAq6Bkt6QlyVlnnZVTTz01y5YtS58+fTJ+/PisWLEiJ510UiZPnpxevXplwoQJpRwBAAAAgJVU0mBUWVmZ22677RPvX3fddaU8LAAAAABfQMluSQMAAACgPAlGAAAAABQIRgAAAAAUCEYAAAAAFAhGAAAAABQIRgAAAAAUCEYAAAAAFAhGAAAAABQIRgAAAAAUCEYAAAAAFAhGAAAAABQIRgAAAAAUCEYAAAAAFAhGAAAAABQIRgAAAAAUCEYAAAAAFAhGAAAAABQIRgAAAAAUCEYAAAAAFAhGAAAAABQIRgAAAAAUCEYAAAAAFAhGAAAAABQIRgAAAAAUCEYAAAAAFAhGAAAAABQIRgAAAAAUCEYAAAAAFAhGAAAAABQIRgAAAAAUCEYAAAAAFAhGAAAAABQIRgAAAAAUCEYAAAAAFAhGAAAAABQIRgAAAAAUCEYAAAAAFAhGAAAAABQIRgAAAAAUCEYAAAAAFKx0MHr33Xfzl7/8pRSzAAAAALAGaFIwOuyww/L+++9nwYIFGTFiRM4666yMHz++1LMBAAAA0AKaFIzee++9dOzYMffee2+GDx+eW265JY8++mipZwMAAACgBTQpGNXV1aWmpiZ33XVX9tprrxKPBAAAAEBLalIwOv7443PUUUdls802S//+/fPqq69m8803L/FoAAAAALSENk35Q/vtt1/222+/htd9+vTJZZddVrKhAAAAAGg5TQpG77zzTn73u9/l9ddfz/Llyxve9+BrAAAAgLVPk4LR8ccfn5122imDBw9O69atSz0TAAAAAC2oScHogw8+yGmnnVbqWQAAAABYAzTpodd77bVXHnzwwVLPAgAAAMAaoElXGF1//fW56qqr0rZt27Rp8+GPVFRUZPbs2SUdDgAAAIDm16RgNGfOnFLPAQAAAMAaoknBKElmzpyZp556Kkmyyy67ZO+99y7ZUAAAAAC0nCY9w+jiiy/O9ddfn759+6Zv3765/vrr87Of/azUswEAAADQApp0hdGDDz6YqVOnplWrD/vSiBEjMnz48JxyyimN/lxVVVU22GCDtGrVKq1bt85tt92WBQsWZMyYMXn99dfTu3fvTJgwIZ07d/7ivwkAAAAAq0WTrjBKkoULFzb8+3vvvdfkA1x33XWZOnVqbrvttiTJpEmTMnjw4Nxzzz0ZPHhwJk2atBLjAgAAAFBqTbrC6Nhjj82IESMyaNCg1NfX58knn8ypp566SgecOXNmbrjhhiTJ8OHDc9hhh+W0005bpe8CAAAAYPWrqK+vr2/KH6ypqclzzz2XJOnfv3+6dev2uT9TVVWVzp07p6KiIoceemgOPfTQDBw4sOHh2fX19dl5550bXn+WZ555Ju3bt2/KmKtFZWVlNh87vdmO19xevvCAVFdXt/QYa4UlS5akQ4cOLT0Gq8j+ypfdlTf7K2/2V77srrzZX/myu/K2LuyvsrLyU99v9AqjF198MX379s2f/vSnJEnPnj2TfBiPampq0q9fv0YPetNNN6VHjx6ZN29ejjjiiGyxxRaFzysqKlJRUfG5w7dv3/4zfwFWjfO5elRXVzuXZcz+ypfdlTf7K2/2V77srrzZX/myu/K2tu+vsYtJGg1G1157bc4777xceOGFn/isoqIi119/faMH7tGjR5Kka9eu+drXvpZnn302Xbt2TU1NTbp3756ampp06dKlKb8DAAAAAM2k0WB03nnnJUnDM4dWxuLFi7NixYp07NgxixcvziOPPJLjjz8+VVVVmTJlSo455phMmTIlQ4YMWbXJAQAAACiJRoPRPffc0+gPDx069DM/mzdvXk444YQkSV1dXb7+9a9njz32yHbbbZeTTjopkydPTq9evTJhwoRVGBsAAACAUmk0GN1///2N/nBjwahPnz6ZNm3aJ97feOONc9111zVxPAAAAACaW6PBaPz48c01BwAAAABriM996HVjjjjiiNU6DAAAAAAtr9FgtGjRouaaAwAAAIA1RKPBaNSoUc01BwAAAABriEaD0dVXX52jjz46P/nJT1JRUfGJz8eNG1eywQAAAABoGY0Go759+yZJtt1222YZBgAAAICW12gwqqqqSpKMGDGiWYYBAAAAoOU1Gow+8txzz+XKK6/MG2+8keXLlze8f8cdd5RsMAAAAABaRpOC0amnnprTTz89W221VVq1alXqmQAAAABoQU0KRl26dMmQIUNKPQsAAAAAa4AmBaPRo0fnzDPPzODBg9OuXbuG94cOHVqywQAAAABoGU0KRrfeemteeumlLF++vHBLmmAEAAAAsPZp8kOv77777lLPAgAAAMAaoElPsN5xxx3zwgsvlHoWAAAAANYATbrC6Jlnnsnw4cPTu3fvwjOM7rjjjpINBgAAAEDLaFIwuuaaa0o9BwAAAABriCYFo969e5d6DgAAAADWEE16hhEAAAAA6w7BCAAAAIACwQgAAACAgiY9w+iee+7JxRdfnHnz5qW+vj719fWpqKjI7NmzSz0fAAAAAM2sScHov//7v3PllVemb9++pZ4HAAAAgBbWpFvSunbtKhYBAAAArCOadIXRtttum5NOOin77LNP2rVr1/D+0KFDSzYYAAAAAC2jScFo0aJFWW+99fLII48U3heMAAAAANY+TQpG48ePL/UcAAAAAKwhGg1GV199dY4++uj85Cc/SUVFxSc+HzduXMkGAwAAAKBlNBqMPnrQ9bbbbtsswwAAAADQ8hoNRlVVVUmSESNGNMswAAAAALS8Vo19OG7cuDz//POf+tnixYszefLkTJs2rSSDAQAAANAyGr3C6Hvf+14uv/zy/PWvf82Xv/zldOnSJbW1tXnllVfy/vvv5xvf+EYOOuig5poVAAAAgGbQaDCqrKzMpZdemkWLFoeqagwAACAASURBVOWPf/xj3nrrrXTo0CFbbLFFtthii+aaEQAAAIBm1Ggw+sgGG2yQQYMGlXoWAAAAANYAjT7DCAAAAIB1j2AEAAAAQMFKB6MVK1bk/fffL8UsAAAAAKwBmhSMTjnllLz//vtZvHhxvv71r2f//ffPNddcU+rZAAAAAGgBTQpGL7zwQjp27JgZM2Zkjz32yMyZMzN16tRSzwYAAABAC2hSMFq+fHmWLVuWGTNmpKqqKm3btk1FRUWpZwMAAACgBTQpGB166KGpqqrKBx98kJ133jmvv/56OnbsWOrZAAAAAGgBbZryhw4//PAcfvjhDa979+6d66+/vmRDAQAAANBymnSF0dtvv50zzjgj//7v/57kw2ca3X777SUdDAAAAICW0aRgNHbs2Oy+++6pqalJkmy++eauMAIAAABYSzUpGM2fPz/7779/WrX68I+3adOm4d8BAAAAWLs0qfqsv/76mT9/fsPfjPbMM89kww03LOlgAAAAALSMJj30euzYsTnuuOPyj3/8I9/+9rczf/78XHrppaWeDQAAAIAW0KRg1K9fv9x44435+9//nvr6+nzpS19K27ZtSz0bAAAAAC2g0WB0zz33fOr7L7/8cpJk6NChq30gAAAAAFpWo8Ho/vvvb/SHBSMAAACAtU+jwWj8+PHNNQcAAAAAa4gmPcMoSR544IH87W9/S21tbcN7o0aNKslQAAAAALScVk35Q2effXbuvPPO3HjjjUmSu+++O2+88UZJBwMAAACgZTQpGM2ZMycXXXRROnXqlFGjRuXmm29uePA1AAAAAGuXJgWjDh06JEnWW2+9zJ07N23bts1bb71V0sEAAAAAaBlNeobRXnvtlYULF+aoo47KIYcckoqKiowcObJJB6irq8s3vvGN9OjRI1dddVVeffXVnHzyyVmwYEH69euXiy66KO3atftCvwQAAAAAq0+TrjA64YQT0qlTpwwbNiz3339/7rrrrpx44olNOsD111+fvn37Nry++OKL84Mf/CD33ntvOnXqlMmTJ6/a5AAAAACURKPB6Nlnny3cejZlypSceOKJufTSS7NgwYLP/fI333wzDzzwQL75zW8mSerr6/P4449n2LBhSZIRI0Zk5syZX2R+AAAAAFazRm9JO+ecc3LttdcmSZ588slcfPHFOeuss1JdXZ2zzz47v/jFLxr98gsuuCCnnXZaFi1alCSZP39+OnXqlDZtPjxsz549M3fu3M8dsra2NtXV1U36hVaHysrKZjtWS2nO87k2W7JkiXNZxuyvfNldebO/8mZ/5cvuypv9lS+7K2/r8v4aDUZ1dXXZaKONkiR33nlnDj300AwbNizDhg3LwQcf3OgX33///enSpUu23XbbzJo16wsN2b59+3Ui4jQn53P1qK6udi7LmP2VL7srb/ZX3uyvfNldebO/8mV35W1t319jMazRYLRixYosX748bdq0yWOPPZaf/OQnDZ/V1dU1etDZs2fnvvvuy0MPPZTa2tq8//77Of/887Nw4cKG73zzzTfTo0ePlfx1AAAAACilRp9hdMABB+Tf/u3fctxxx6VDhw4ZOHBgkuSVV15Jx44dG/3iU045JQ899FDuu+++/PznP8+uu+6an/3sZxk0aFDuvvvuJMntt9+eqqqq1fSrAAAAALA6NHqF0XHHHZfBgwfnrbfeym677ZaKiookH155dNZZZ63SAU877bSMGTMmEyZMSGVlZUaOHLlK3wMAAABAaTQajJJk++23/8R7X/rSl1bqIIMGDcqgQYOSJH369MnkyZNX6ucBAAAAaD6N3pIGAAAAwLpHMAIAAACgQDACAAAAoKDRZxjtsMMODQ+6/rj6+vpUVFRk9uzZJRsMAAAAgJbRaDCaM2dOc80BAAAAwBric/+WtI+bN29eamtrG1736tVrtQ8EAAAAQMtqUjCaOXNmfvrTn6ampiZdunTJG2+8kb59+2b69Omlng8AAACAZtakh15feuml+e1vf5vNN9889913X371q19lwIABpZ4NAAAAgBbQpGDUpk2bbLzxxlmxYkVWrFiRXXfdNX/84x9LPRsAAAAALaBJt6R16tQpixYtysCBA3PqqaemS5cuWX/99Us9GwAAAAAtoElXGF1++eXp0KFDzjjjjHz1q1/NZpttliuuuKLUswEAAADQApp0hdH666+ft956K88++2w6d+6c3XffPRtvvHGpZwMAAACgBTTpCqNbbrklI0eOzL333pu77747hx56aCZPnlzq2QAAAABoAU26wuiaa67J7bff3nBV0fz58/Ptb3873/zmN0s6HAAAAADNr0lXGG288cbZYIMNGl5vsMEGbkkDAAAAWEs1eoXRtddemyTZbLPN8q1vfStDhgxJRUVFZs6cma233rpZBgQAAACgeTUajBYtWpTkw2C02WabNbw/ZMiQ0k4FAAAAQItpNBiNGjWq8PqjgPTx29MAAAAAWLs06aHXf/3rX3P66afn3XffTfLhM41++tOf5stf/nJJhwMAAACg+TUpGJ199tkZO3Zsdt111yTJrFmzctZZZ+Xmm28u6XAAAAAANL8m/S1pixcvbohFSTJo0KAsXry4ZEPBqlqyrK5Zj1dZWdmsx2vu3w8AAIB1U5OuMOrTp08mTpyYgw8+OEkybdq09OnTp6SDwaro0LZ1Nh87vaXHKJmXLzygpUcAAABgHdCkK4wuuOCCzJ8/Pz/60Y/yox/9KO+8804uuOCCUs8GAAAAQAto0hVGnTt3zrhx40o9CwAAAABrgEaD0Q9/+MNGf/jKK69crcMAAAAA0PIaDUZHHnlkc80BAAAAwBqi0WC0yy67NNccAAAAAKwhGn3o9YwZM/LrX/+64fXIkSMzZMiQDBkyJL///e9LPhwAAAAAza/RYHTNNdekqqqq4fXSpUszefLk3HDDDbnppptKPhwAAAAAza/RW9KWLVuWTTfdtOH1TjvtlI033jgbb7xxPvjgg5IPBwAAAEDza/QKo4ULFxZen3322Q3//s4775RmIgAAAABaVKPBqH///vnd7373ifdvvvnm9O/fv2RDAQAAANByGr0l7YwzzsgJJ5yQO+64I/369UuS/OlPf8rSpUszceLEZhkQAAAAgObVaDDq2rVrbr755jz22GN54YUXkiR77rlnBg8e3CzDAQAAAND8Gg1GHxk8eLBIBAAAALCOaPQZRgAAAACsewQjAAAAAAoEI2CNsWRZXbMer7KyslmP19y/HwAAwKpq0jOMAJpDh7ats/nY6S09Rsm8fOEBLT0CAABAk7jCCAAAAIACwQgAAACAAsEIAAAAgALBCAAAAIACwQgAAACAAsEIAAAAgALBCAAAAIACwQgAAACAAsEIAAAAgALBCAAAAIACwQgAAACAAsEIAAAAgALBCAAAAIACwQgAAACAgjal+uLa2tp873vfy9KlS1NXV5dhw4Zl9OjRefXVV3PyySdnwYIF6devXy666KK0a9euVGMAAAAAsJJKdoVRu3btct1112XatGmZMmVKHn744TzzzDO5+OKL84Mf/CD33ntvOnXqlMmTJ5dqBAAAAABWQcmCUUVFRTbYYIMkyfLly7N8+fJUVFTk8ccfz7Bhw5IkI0aMyMyZM0s1AgAAAACroGS3pCVJXV1dDjnkkPzjH//Id7/73fTp0yedOnVKmzYfHrZnz56ZO3fu535PbW1tqqurSzlqQWVlZbMdq6U05/lsTnZX3uyPplqyZIlzWcbsr7zZX/myu/Jmf+XL7srbury/kgaj1q1bZ+rUqVm4cGFOOOGEvPTSS6v0Pe3bt18n/odkc3I+y5fdlTf7Wz2qq6udyzJmf+XN/sqX3ZU3+ytfdlfe1vb9NRbDmuVvSevUqVMGDRqUZ555JgsXLszy5cuTJG+++WZ69OjRHCMAAAAA0EQlC0bvvPNOFi5cmOTDS7geffTR9O3bN4MGDcrdd9+dJLn99ttTVVVVqhEAAAAAWAUluyWtpqYmY8eOTV1dXerr67Pvvvtm7733zpZbbpkxY8ZkwoQJqayszMiRI0s1AgAAAACroGTBaJtttsmUKVM+8X6fPn0yefLkUh0WAAAAgC+oWZ5hBMDab8myumY7VnM/eLA5fzcAAFgTlPRvSQNg3dGhbetsPnZ6S49REi9feEBLjwAAAM3KFUYAAAAAFAhGALCOa+5b7txSCACw5nNLGgCs49bm2wkTtxQCAKwKVxgBAAAAUCAYAQAAAFAgGAEAAABQIBgBAAAAUCAYAQAAAFAgGAEAAABQIBgBAAAAUCAYAQAAAFAgGAEAAABQIBgBAAAAUCAYAQAAAFAgGAEAAABQIBgBAAAAUCAYAQAAAFAgGAEAAABQIBgBAAAAUCAYAQAAAFAgGAEAAABQIBgBAAAAUCAYAQAAAFAgGAEAAABQIBgBAAAAUCAYAQAAAFAgGAEAAABQIBgBAAAAUCAYAQAAAFAgGAEAAABQIBgBAAAAUCAYAQAAAFAgGAEAAABQIBgBAAAAUCAYAQAAAFAgGAEAAABQIBgBAAAAUCAYAQAAAFAgGAEAlLEly+qa9XiVlZXNerzm/v0AgA+1aekBAABYdR3ats7mY6e39Bgl8/KFB7T0CACwTnKFEQAAAAAFghEAAAAABYIRAAC0AM+fAmBN5hlGAADQAjx/CoA1mSuMAAAAACgQjAAAAAAoEIwAAAAAKBCMAAAAACgQjAAAAAAoEIwAAAAAKBCMAAAAACgQjAAAAAAoaFOqL/7nP/+Z008/PfPmzUtFRUW+9a1v5fvf/34WLFiQMWPG5PXXX0/v3r0zYcKEdO7cuVRjAAAAALCSSnaFUevWrTN27Njceeed+e1vf5vf/OY3eeGFFzJp0qQMHjw499xzTwYPHpxJkyaVagQAAAAAVkHJglH37t3Tr1+/JEnHjh2zxRZbZO7cuZk5c2aGDx+eJBk+fHhmzJhRqhEAAAAAWAUluyXt41577bVUV1dnwIABmTdvXrp3754k6datW+bNm/e5P19bW5vq6upSj9mgsrKy2Y7VUprzfDYnuytv9lfe1vb92V15s7/ytrbuz+5YGUuWLHE+y5Tdlbd1eX8lD0aLFi3K6NGjc8YZZ6Rjx46FzyoqKlJRUfG539G+fft14r9Qm5PzWb7srrzZX/myu/Jmf+XN/sqX3a0+1dXVzmeZsrvytrbvr7EYVtK/JW3ZsmUZPXp0DjzwwAwdOjRJ0rVr19TU1CRJampq0qVLl1KOAAAAAMBKKlkwqq+vz5lnnpktttgiRxxxRMP7VVVVmTJlSpJkypQpGTJkSKlGAAAAAGAVlOyWtKeffjpTp07NVlttlYMPPjhJcvLJJ+eYY47JSSedlMmTJ6dXr16ZMGFCqUYAAAAAYBWULBgNHDgwzz///Kd+dt1115XqsAAAAAB8QSV9hhEAAAAA5UcwAgAAAKBAMAIAAACgQDACAAAAoEAwAgAAAKBAMAIAAACgQDACAAAAoEAwAgAAAKBAMAIAAACgQDACAAAAoEAwAgAAAKBAMAIAAACgQDACAAAAoEAwAgAAAKBAMAIAAACgQDACAAAAoEAwAgAAAKBAMAIAAACgQDACAAAAoEAwAgAAAKBAMAIAAACgQDACAAAAoEAwAgAAAKBAMAIAAACgQDACAAAAoEAwAgAAAKBAMAIAAACgQDACAAAAoEAwAgAAAKBAMAIAAACgQDACAAAAoEAwAgAAAKBAMAIAAOD/a+/O47qq8j+Ov1kEzA33LSctcRs3EHUoS0VERb6AiEtuaBZl2a+f4+i4N5r+cvupoxVNuVdj8jPCFEUHM3XcFxyz3HLHUXQEE0ERvvD7gwd3uMEXMdl0Xs+/+N7v93vOud9z77nnfs65BwAwIWAEAAAAAAAAEwJGAAAAAAAAMCFgBAAAAAAAABMCRgAAAAAAADAhYAQAAAAAD+leurVE82vevHmJ5lfS+weg7HEs7QIAAAAAwOPGpZyDGk6ILu1iFJsLs3uXdhEAlDJmGAEAAAAAAMCEgBEAAAAAAABMCBgBAAAAAADAhIARAAAAAAAATAgYAQAAAAAAwISAEQAAAAAAAEwIGAEAAAAAAMCEgBEAAAAAAABMCBgBAAAAAP6j3Eu3llhezZs3L7G8pJLdNzzZHEu7AAAAAAAAlCSXcg5qOCG6tItRLC7M7l3aRcATghlGAAAAAAAAMCFgBAAAAAAAABMCRgAAAAAAADAhYAQAAAAAAACTYgsYTZw4UV5eXvL39ze23bp1SyNGjJCvr69GjBihn3/+ubiyBwAAAAAAwK9UbAGj4OBgLV261LTtk08+kZeXl7Zu3SovLy998sknxZU9AAAAAAAAfqViCxi1b99eVapUMW3btm2bgoKCJElBQUGKjY0truwBAAAAAMAT5l66tUTza968eYnmV9L7VxDHkszs5s2bqlWrliSpZs2aunnzZqG+l5aWphMnThRn0UxK+oAoDSX5e5Yk6u7xRv093p70+qPuHm/U3+PtSa0/6u7xRv093p70+nvS667hhOjSLkaxuTC7d5mpvxINGOVmZ2cnOzu7Qn3W2dn5iT+hSxq/5+OLunu8UX+PL+ru8Ub9Pd6ov8cXdfd4o/4eX9Td460k66+g4FSJ/pe06tWr6/r165Kk69evq1q1aiWZPQAAAAAAAAqhRANG3t7eioqKkiRFRUWpW7duJZk9AAAAAAAACqHYAka///3vNXDgQJ0/f14vvfSS/u///k9hYWHavXu3fH19tWfPHoWFhRVX9gAAAAAAAPiVim0NowULFuS7fdWqVcWVJQAAAAAAAIpAiT6SBgAAAAAAgLKPgBEAAAAAAABMCBgBAAAAAADAhIARAAAAAAAATAgYAQAAAAAAwISAEQAAAAAAAEwIGAEAAAAAAMCEgBEAAAAAAABMCBgBAAAAAADAhIARAAAAAAAATAgYAQAAAAAAwISAEQAAAAAAAEwIGAEAAAAAAMCEgBEAAAAAAABMCBgBAAAAAADAhIARAAAAAAAATAgYAQAAAAAAwISAEQAAAAAAAEwIGAEAAAAAAMCEgBEAAAAAAABMCBgBAAAAAADAhIARAAAAAAAATAgYAQAAAAAAwISAEQAAAAAAAEwIGAEAAAAAAMCEgBEAAAAAAABMCBgBAAAAAADAhIARAAAAAAAATAgYAQAAAAAAwISAEQAAAAAAAEwIGAEAAAAAAMCEgBEAAAAAAABMCBgBAAAAAADAhIARAAAAAAAATAgYAQAAAAAAwISAEQAAAAAAAEwIGAEAAAAAAMCEgBEAAAAAAABMCBgBAAAAAADAhIARAAAAAAAATAgYAQAAAAAAwISAEQAAAAAAAEwIGAEAAAAAAMCEgBEAAAAAAABMCBgBAAAAAADAhIARAAAAAAAATAgYAQAAAAAAwISAEQAAAAAAAEwIGAEAAAAAAMCEgBEAAAAAAABMCBgBAAAAAADAhIARAAAAAAAATAgYAQAAAAAAwISAEQAAAAAAAExKJWC0c+dO9ejRQ927d9cnn3xSGkUAAAAAAACADSUeMLJarZoxY4aWLl2q6Ohobdy4UT/99FNJFwMAAAAAAAA2lHjA6NixY3rmmWfUoEEDOTk5qXfv3tq2bVtJFwMAAAAAAAA22GVlZWWVZIYxMTHatWuXZs2aJUmKiorSsWPHNG3aNJvfOXr0qJydnUuqiAAAAAAAAE+8tLQ0tW3bNt/3HEu4LL+KrcIDAAAAAACg6JX4I2m1a9fWtWvXjNcJCQmqXbt2SRcDAAAAAAAANpR4wKhVq1a6cOGCLl++rPv37ys6Olre3t4lXQwAAAAAAADYUOKPpDk6OmratGl69dVXZbVa1bdvX7m5uZV0MQAAAAAAAGBDiS96DQAAAAAAgLKtxB9JAwAAAAAAQNlGwAgAAAAAAAAmBIwe4H/+53+0cuVK4/XIkSM1efJk4/Xs2bO1YsUKbdu2TZ988okkac2aNYqKisqT1rlz5zR06FAFBgaqV69emjp1apGV8+OPPy6ytB4HTZs21R/+8AfjdUZGhn73u9/p9ddff6h0EhIS9F//9V+F/nx8fLz8/f2N1xEREQoODtbPP/9c6DRiY2P1008/5dl++/ZtdezYUTlPicbFxalp06bGfxVMTk5Whw4dlJmZqddee023b9+WJA0cOLDQeZeEJ/WcmTBhgry9vRUYGKiAgADt3bu3yMqSn5UrV+ru3bvFmkdJK8pjY8mSJXrxxRcVGBgof39/bdu2zdi+bNmy4t2RR9S0aVPNnj3beL1s2TItWbKkyNLPzMzUzJkz5e/vL4vFor59++ry5ctFln5heHt7a9CgQaZtOXX1sB62jWvevLlxnvbp00dHjhx56DwL6+TJkwoMDDReb9y4Ua1bt1Z6erok6dSpU7JYLJL+vR8Pe90pLsV1PgYGBmr+/Pmmz0ZGRiohIaF4d+gxVlbqIvd1rk+fPoqLizO2x8TEFNXuFonw8HD17t1bFotFgYGB+sc//lGi+W/fvl1BQUEKCAiQn5+fvvzyy2LLq7C/f0m2fTnlyjleevbsqQ8++KDI84iMjNSMGTOM16Vd70OHDlWXLl2Ue0WXN998U+7u7g+dVu6+fGGkpKTo3XfflY+Pj/r06aPg4GBFREQ88Hu/pmxl2a/ZH1v3XpK5zfT19dXo0aNtfra4rVmzxji2X3755VIrxy+V+KLXjxsPDw9t3rxZw4cPV2ZmppKSknTnzh3j/bi4OE2cOFFt27ZVt27dJEkvv/xyvmnNmjVLoaGh8vHxkZTdkXxUWVlZysrK0l/+8he98cYbj5ze4+Kpp57SmTNndO/ePbm4uGj37t2qXbv2Q6WRkZGh2rVra/Hixb+qDFFRUfrss8+0atUqValSpdB5xsbGqkuXLmrcuLHpvcqVK6tmzZo6e/asGjdurLi4OLVo0UJHjhyRn5+fjh49qlatWsne3l6ffvqp8b3i7KT8Gk/yOTN+/Hj17NlT+/bt07Rp07R169ZHLk9+rFarVq9erYCAAJUvX75Y8igNRXlsSNLw4cM1cuRInT17VoMGDSr2IF5RcXJy0tatWxUWFqZq1aoVefqbNm3S9evX9c0338je3l7Xrl0r1uMoIyNDjo55uxMpKSm6evWq6tatq7Nnz/7qdB+2jXNxcdH69eslSbt27dKCBQv0+eefF6rMD6tJkya6evWq7ty5o4oVKyouLk7PPfecTpw4odatWysuLs7o3Obsx6Ncd4pScZ2P+fn666/l5ub20Nfp/xRlqS5yrnN///vfNW3aNG3YsOER9qx4xMXF6bvvvtPXX38tJycnJSYmGkHa4pDTb7C3zx5nT09P19SpU7Vu3TrVqVNH9+/fV3x8fLHlX1gl2fblyDle0tLS5Ofnp8DAQDVo0MD0GavVKgcHh0fOq7TrPUelSpV0+PBheXp66vbt27px48avSjd3X74wpkyZogYNGmjr1q2yt7dXYmKi1q1b91Bp/Keyde+VI3ebuWnTJoWGhmrDhg3F0kcriMViMdr2bdu26f333y8Tg6DMMHoAd3d3HT16VJJ05swZubm5qUKFCvr55591//59nT17Vi1atDBFwG2NcF+/fl116tQxXjdt2lRSdvR81KhRGjp0qHx9fU0R+hUrVsjf31/+/v7G6FN8fLx69Oih8ePHy9/fX5MnT9a9e/cUGBiosWPHKjU1VWFhYQoICJC/v782bdpUXD9PqercubO+++47SVJ0dLR69+5tvHfs2DENGDBAQUFBGjhwoM6dOycp+7d+4403NGzYMA0fPtw0YygtLU0TJ06UxWJRUFCQ9u3bZzPvTZs26dNPP9Xy5cuNxuSDDz5Q37595e/vr6lTpxqjD0OHDtWsWbMUHBysTz/9VN9++63mzp2rwMBAXbp0yZSuu7u7MaIXFxen0NBQ02sPDw9J2aP3iYmJxnfKkv+Ec8bd3d0YobVarZozZ4769u0ri8Vi3BRev35dgwcPNmZVHDp0SFL2DASLxSJ/f3/NmzfPlObs2bMVEBCg8PBwXb9+XaGhoRo6dOhD/f5lWVEeG7k999xzcnR0VFJSkml7RESE+vbtq4CAAL399tu6e/eu7ty5I29vb6OT+cvXJcHR0VEDBgzQqlWr8ryXmJiot99+W3379lXfvn11+PBhSdmdiNu3bysrK0sdO3Y0ZguMHz9eu3fvNqVx48YN1axZ0+jk1qlTxwhq524vYmJiNGHCBEnZI8XTpk1TcHCwevTooe3bt0uyfXzv379fgwYN0htvvGFqe3Pr1auXcS5t3LjR9Ln4+HgNGjRIffr0MY2E55duTpmzsrI0Z84cY+ZUYa5td+7cUeXKlfNN21abf+bMGYWEhCgwMFAWi0UXLlywmb69vb1atmypY8eOSZJ++OEHDRo0yNif3O12zn78cqZqaSmu8zFHzmdjYmJ0/Phx/eEPf1BgYKDu3btXbPv0uCqLddG+ffs8fRTJ3P/4/vvvjWvUgQMHjFlNQUFBpoBXUbtx44aqVq0qJycnSVK1atWMAJit8i1ZskTjxo3TgAED5Ovra5qZsXTpUqONywnm/rLfcPXqVePzKSkpslqtcnV1lZQ9CPDss89Kym5L3333XfXv31/dunXT/v37NXHiRPXq1ctobyXp3XffVXBwsHr37m0KIM+fP19+fn6yWCyaM2eOsf3QoUMaOHCgunXrVqjZRsXd9v1SWlqapOwBXSm7HubNm6c+ffooJiYm3+ux1WqVt7e3srKydPv2bTVv3lwHDx6UJA0ePDhP/qVd7zl69+5tXH+2bt2q7t27G++lpKQoNDRUffr0kcViUWxsrM10c5c5v75rbpcuXdKxY8f03//938a1vVq1agoLCysw39xsfebYsWOyWCxKS0tTamqqevfurdOnT2v8+PGmdMaOHZtvuqVh//79pqdKZsyYocjISEl5z6EjR44UeO/1S35+fnrhhReMYHlBmnwhwwAAF2dJREFU93fz5s1TSEiIevToYfTzc/pNOX2Vzz77TJJ0/PhxDRkyRMHBwRo5cqSuX7+eJ++KFSsaf9+9e1d2dnaP8CsVHWYYPUDt2rXl4OCgf/7zn4qLi1Pbtm2VkJCgo0ePqmLFimrSpInRcD3I8OHDFRoaKnd3d3Xq1EnBwcFGY/79999rw4YNKl++vEJCQtS5c2fZ2dkpMjJSERERysrKUv/+/dWhQwdVrlxZFy9e1Jw5c9S2bVtJ2R3/nFGFLVu2qFatWsa05eTk5GL4ZUqfn5+fPvroI3Xt2lWnTp0y3Vw9++yz+uKLL+To6Kg9e/Zo4cKFxiMfP/74o7755hu5urqaRoS++OILSdKGDRt09uxZjRw5Ulu2bJGzs7Mp3ytXrui9995TVFSUatasaWwfMmSIRo8eLUkaN26ctm/fLm9vb0nZo1E5DdnFixfVpUsX9ezZM88+eXh46MCBA+rXr58uX76sXr16ae3atZKybzxyLgxl2X/CObNr1y5j1tO6detUqVIlffXVV7p//74GDhyoF154QX/729/UqVMnjRo1SlarVXfv3lVCQoLmz5+vyMhIVa5cWa+88opiY2Pl4+Oj1NRUtW7d2uhQRkZGatWqVSU+ulGcivLYyO0f//iH7Ozs8vxW3bt3V//+/SVJCxcu1Lp16zR06FB17NhRO3bskI+Pj6Kjo+Xr66ty5coVyT4W1uDBgxUQEKBXX33VtD1nVp2np6f++c9/auTIkdq8ebPc3d115MgR1atXT08//bQOHTqkoKAgHT16VH/6059MafTq1UuDBg3SoUOH5OXlpYCAALVo0eKBZbpy5YrWrVunS5cuadiwYXr++ecVFRWV7/EtZbelGzZsyDOanMPX11eTJk3SyJEjtX37ds2fP1/ffPONJKl69epasWKFnJ2ddeHCBf3+97832khb6W7dulUnT57U+vXrlZSUpJCQEHl6eqpWrVqmz+UEg9PS0nTjxg1TYC532suXL5eUt83/8ssvNWzYMAUEBOj+/fvKzMws8Hfz8PDQkSNH1LZtW9nZ2aljx4763//9Xw0fPlxxcXF66623Hvjbl4aiPh9Xrlxp1G/uR8Z79uypL774QuPHj1erVq2KfD+eBGWxLr799ls1adKk0HkuX75c06ZNU7t27ZSSkpKn71SUXnjhBX344Yfq0aOHvLy85Ofnpw4dOjzwe6dOnVJERIRSU1PVp08fde7cWWfOnNHFixe1bt06ZWVladSoUTp48KDq1q2bp9+Qw9XVVd7e3uratau8vLzUpUsX+fv7Gzfyt2/f1tq1a7Vt2zaNGjVKa9askZubm0JCQnTixAk1b95cY8aMkaurq6xWq4YPH66TJ0+qdu3a+tvf/qaYmBjZ2dmZHle6fv26/vrXv+rcuXMaNWpUvn3Ikm77JGnu3LkKDw/XpUuXNHToUFWvXt30O3399deSpKSkpHyvx40aNdJPP/2k+Ph4tWjRQocOHVKbNm109epVNWzY0PRYXWnXew4vLy9NmTJFVqtVmzZt0owZMxQeHi5JcnZ21ocffqiKFSsqMTFRAwYMMGYF2kr3+PHj+fZdc1+3z5w5o2bNmuWZ7ZTDVr65Aw62PtO6dWt5e3tr0aJFunfvngICAtSkSROFhIRo5cqV8vHxUXJysuLi4kxBzLIoKSkpzzlUuXJleXt727z3yk+LFi2MyQYF3d9ZrVatW7dOO3bs0AcffKCVK1dq7dq1unLliqKiouTo6Khbt24pPT1dM2fO1EcffaRq1app06ZNWrhwod5///08eX/xxRdasWKF0tPT8x1YLA0EjAohZ9ZHXFycRowYoYSEBB05ckSVKlUyRg4Lo2/fvurUqZN27dqlbdu26csvvzQu6M8//7yqVq0qKfsm5/Dhw7Kzs5OPj48Rre/evbsOHTokb29v1atXz2ZD1qRJE82ZM0fz5s1T165d5enp+Yi/QNnUrFkzxcfHa+PGjercubPpveTkZP3xj3/UxYsXZWdnZ5o98MILLxijQrkdPnxYQ4YMkZQ9Y6FevXo6f/68mjVrZvpctWrVVKVKFWP6eI79+/dr6dKlunfvnm7duiU3NzejQfHz8yvUPrm7u+svf/mLLl++rPr168vZ2VlZWVlKSUnRDz/8oNatWxcqndL2pJ4zc+fO1cKFC3Xt2jUjkLd7926dOnVKW7ZskZR97F28eFGtWrXSpEmTlJGRIR8fHzVv3lz79u1Thw4djMCGxWLRwYMH5ePjIwcHB/Xo0aPQv83jqqiODenfN0UVKlTQokWL8ozEnDlzRosWLVJycrJSUlLUqVMnSVJISIiWLl0qHx8fRUZG6r333iuy/SusihUrKjAwUKtXr5aLi4uxfc+ePaZn1u/cuaOUlBR5enrq4MGDqlevnl5++WVFREQoISFBlStXNo73HHXq1FFMTIz27t2rffv2afjw4frzn/8sLy+vAsvUq1cv2dvbq2HDhmrQoIHOnTtn8/guV66cWrVqZTNYJGXfLFSuXFnR0dF67rnnTPuZkZGhGTNm6OTJk7K3tzeNJNtK9/Dhw+rdu7ccHBxUo0YNtW/fXt9//73RGc+R+7GMuLg4/fGPf9TGjRvzpG2rzW/btq0+/vhjXbt2Tb6+vmrYsGGBv5u7u7uWL1+uY8eOqVWrVvrNb36jS5cuKTExUampqfrNb35T4PdLU1Gej798DCpnxgwKp6zURU4AoFq1apo1a1ahv+fh4aHZs2fLYrHI19dXFSpUeKgyP4wKFSooMjJShw4d0v79+zVmzBiNHTtWwcHBBX6vW7ducnFxkYuLizp27Kjvv/9ehw8f1u7duxUUFCRJSk1N1YULF1S3bt0C+w2zZs3SqVOntHfvXi1fvlx79uwx1qbr2rWr7Ozs1LRpU9WoUcOYHd24cWNduXJFzZs31+bNmxUREaGMjAzduHHDWI7A2dlZkyZNUteuXdWlSxcjPx8fH9nb26tx48b617/+lW+ZSrrtk/79SFpKSoqGDx+uI0eOGMdr7r6vretxzrUtPj5er7/+uiIiItS+fft8A5plod6l7Jml7dq1U3R0tO7du6enn37aeC8rK0sLFizQwYMHZW9vr4SEBKO+bKV7+PDhfPuuBQ30hIeHKyYmRjdv3tTf//53m/nmHtgu6DNvvfWWQkJC5OzsrClTpkiSOnTooOnTpysxMVFbtmxRjx49ivRxxuJQqVIlm+fQr1XQ/V3O7LLf/va3unLliiRp7969GjhwoPFbubq66vTp0zp9+rRGjBghKXutydx1k9vgwYM1ePBgbdiwQeHh4WUiSFe2a72M8PDwUFxcnE6fPi03NzfVqVNHy5cvV8WKFR/YSP1S7dq1FRISopCQEPn7++v06dOSlOdG50FT0H55g5Bbo0aNFBkZqR07dmjRokX63e9+Z0RGnzTe3t6aO3euVq9erVu3bhnb//znP6tjx4768MMPFR8fr2HDhhnvPepaHuXLl9enn36qQYMGqVq1agoICFBaWpqmT5+ur776SnXr1tWSJUuM6bkPk2fDhg2VnJys7du3GxeVli1bKjIyUvXr1y/WDlhRelLPmZyO0WeffaZJkyYpMjJSWVlZmjJlil588cU8n//888+1Y8cOTZgwQSNGjDBNNf0lZ2fnInnGv6wrymOjoHU6pOxHAz766CM1a9ZMkZGROnDggCSpXbt2mj59uvbv3y+r1fpQo+hFKTQ0VMHBwab9zszMVERERJ7R+fbt2+uvf/2rrl69qjFjxig2NlYxMTE2g5tOTk7q3LmzOnfurBo1aig2NjZPwCh3GyXlf07ZOr73799f4DmVw8/PTzNmzMgzirZy5UrVqFFD69evV2ZmpikYXph0C8vd3V1JSUnGtP/CpG2xWNSmTRt99913CgsL0/Tp0wsMtrVp00bHjx83ZhlJ2e1WdHR0gTcdZUFRno94NGWlLnKuc7Y4ODgYj2TkbkPCwsLUuXNn7dixQy+//LKWLl2q5557rtjK6eDgoI4dO6pjx45q0qSJoqKiFBwcbLN8Uv79hKysLIWFheVZXD8+Pv6B7UXTpk3VtGlTBQQEqFu3bkbAKGc2mJ2dnWlmmL29vTIyMnT58mUtX75c69atU5UqVTRhwgSlpaXJ0dFR69at0969exUTE6PPP/9cq1evNqVZWCXR9uVWoUIFdejQQYcPHzYCRrn7vraux+3bt9eaNWt0/fp1vfPOO1q2bJkOHDhg89pWFupdyn4sbfTo0Xn6ihs2bFBiYqIiIyNVrlw5eXt753lc79do3LixTp48qczMTNnb22vUqFEaNWqU8ahzQfkWpmy3bt1SamqqMjIylJaWZpQ1MDBQ33zzjaKjo/OdDVNaHBwcTDPgcvajoHPoYfz4449q2bLlA+/vcs5Le3t7Wa1Wm+llZWXJzc3NGGwujN69e+eZQV5aWMOoEDw8PLR9+3ZVqVJFDg4OcnV1VXJyso4ePfpQ68fs3LnTmOly48YN3bp1y3j2dvfu3bp165bu3bun2NhYeXh4yNPTU7Gxsbp7965SU1MVGxtrswF1dHQ00k5ISFD58uUVGBiokSNH6scff3zEX6DsCgkJ0VtvvWWM3uRITk42ftuc6bAP4unpaTyvev78eV29etV4Jv2XqlevrqVLl2rhwoXatWuX0XhUrVpVKSkpxmh8fipUqKCUlBSb77dp00arV682jq22bdtq1apVDz3CWJqe9HNmyJAhyszM1K5du9SpUyetWbPGSOv8+fNKTU3VlStXVKNGDfXv31/9+vUzZogdPHhQiYmJslqtio6OVvv27fPN40HHyeOqqI6NwkhJSVHNmjWVnp6eZ+HWoKCgQo1MFidXV1f17NnTtGhlp06djOfdJenEiROSpLp16yopKUkXLlxQgwYN5OHhoeXLl+d7fP/www/GGluZmZk6deqU6tWrJ0mqUaOGzp49q8zMzDxrEcTExCgzM1OXLl3S5cuX1ahRI5vHd2H5+Pho5MiRxmhyjuTkZGOdpfXr1xfY0crh6empzZs3y2q1KjExUYcOHXrgrMuzZ8+a1hr5ZXr5tfmXL19WgwYNNGzYMHXr1u2Bi+1XrFhRderUUWRkpHEMu7u7Pxbtdkmdj09qe1aUHpe6qF+/vo4fPy5Jpn/8cOnSJTVt2lRhYWFq1aqVzp8//8hlteXcuXOmWYknTpww2jhb5ZOyF5FNS0tTUlKSDhw4oFatWqlTp0766quvjN8kISFBN2/eLDD/lJQU7d+/33h98uRJ1a9fv9DlT0lJUfny5VWpUiX961//0s6dO43tycnJ6ty5syZNmvRI/+ijJNq+3DIyMnTs2DGbMyptXY9z/jmAnZ2dnJ2d1axZM61duzbfvlFp13tunp6eCgsLy7OGX3JysqpXr65y5cpp3759xqyTB6X1oL7rM888o5YtW2rRokXG9TItLc0IkhUm34I+M23aNL3zzjuyWCyaP3++sT04ONh4LMrWgtGloX79+jp79qzu37+v27dvG//0xNY59DDt3pYtW7R79275+/s/1P1djueff15r165VRkaGpOxgXKNGjZSYmGisS5uenq4zZ87k+W7u4/u7777TM888U6gyFzdmGBVCkyZNlJSUZFqkskmTJkpJSXmo9UV2796tWbNmGSPH48aNM6ajtW7dWm+//bYSEhIUEBBgTMUMDg5Wv379JGUHR1q0aJHvf2Lo37+/sU5FUFCQ5s6dK3t7ezk6OpaZ6GRxqFOnjmn2UI5XX31VEyZMUHh4eJ7H1WwZNGiQ/vSnP8liscjBwUHvv/9+gSM6DRo0UHh4uF577TV9+OGH6tevn/z9/VWjRo0C1wbw8/PT1KlT9dlnn2nx4sV5Lq4eHh7auXOnWrZsKSk7YHT58uUyt7h1QZ70c8bOzk6jRo3S0qVLtWLFCl25ckXBwcHKyspS1apV9dFHH+nAgQNatmyZHB0d9dRTT2nOnDmqVauWxo4dq9DQUGVlZalz587GWkj5le/VV19VrVq1TAGEx11RHRuF8c4776hfv36qVq2a2rRpY+osWCwWLVq0qNQXH37llVeM9dMkafLkyZoxY4YsFousVqs8PT2NRW5bt25tjKh5enpqwYIFateuXZ40b968qalTp+r+/fuSsh9FyHn8YOzYsXr99ddVrVo1tWzZ0hT8qVu3rkJCQpSSkqLp06fL2dlZ/fr1y/f4LqyKFSvmu/baoEGD9PbbbysqKkovvvhioUZeu3fvrri4OAUGBsrOzs7UHuSWs46H9O+FsvObvWerzd+8ebPWr18vR0dH1ahRw1hY87XXXtPMmTPz/e9SHh4e2rZtm+rWrSspu91esGBBmW+3S+p87NOnj9599125uLho7dq1pscTke1xqYvRo0dr8uTJxkzuHKtWrdL+/ftlZ2cnNzc3vfTSS0VW5l9KTU3VzJkzdfv2bTk4OOiZZ54x2klb5ZOyZwQNGzZMSUlJevPNN1W7dm3Vrl1bZ8+eNWaaPPXUU5o3b57NtWKk7HZl6dKlmjZtmlxcXFS+fPmHmn3RrFkztWjRQr169VKdOnWMwHJKSorefPNN4yY19yLZhVEabV/OI4zp6eny8vKSr69vvmWzdT12cnJSnTp1jNmYnp6eio6Oznfmb2nXe252dnb5znC2WCwaNWqULBaLWrZsaXPgObff/va3+fZdf2nWrFmaO3euunfvLldXV7m4uGjcuHGFztfWZ6KiolSuXDmj3zFw4EDt3btXXl5eqlGjhp599lmbfdWSlpGRIScnJ9WtW1c9e/aUv7+/nn76aeP3snUOPejeK2eJg7t378rNzc20hmhh7+9y9OvXTxcuXFBAQIAcHR3Vv39/DRkyRIsXL9bMmTOVnJwsq9Wq0NBQubm5mb77+eefa+/evXJ0dFTlypXLxONokmSXlROaRKmJjIzU8ePHNW3atNIuCvBY4JzBo4qJidG2bdtM/6nuP9mECRMeakFIAHicLFmyRE899VSBjzHjyUO9P5q7d+/KYrHo66+/VqVKlUq7ODp58qSmTJlimpmN4scMIwDAf5T33ntPO3fuNP4rHgAAAP5tz549mjx5skJDQ8tEsGjNmjXGGqIoWcwwAgAAAAAAgAmLXgMAAAAAAMCEgBEAAAAAAABMCBgBAAAAAADAhIARAABAPpo2barZs2cbr5ctW6YlS5aUYokAAABKDgEjAACAfDg5OWnr1q1KTEws7aIAAACUOMfSLgAAAEBZ5OjoqAEDBmjVqlUaM2aM6b1vv/1W4eHhSk9Pl6urq+bPn68aNWpoyZIlio+P1+XLl3X16lVNnDhRR48e1a5du1SrVi19/PHHKleunI4fP67Zs2crNTVVVatW1fvvv69atWqV0p4CAADkxQwjAAAAGwYPHqwNGzYoOTnZtL1du3aKiIhQVFSUevfuraVLlxrvXbp0SatWrVJ4eLjGjRunjh07asOGDXJxcdGOHTuUnp6umTNnavHixYqMjFTfvn21cOHCkt41AACAAjHDCAAAwIaKFSsqMDBQq1evlouLi7H92rVrGjNmjG7cuKH79+/r6aefNt576aWXVK5cOTVp0kRWq1UvvfSSJKlJkyaKj4/X+fPndfr0aY0YMUKSlJmZqZo1a5bsjgEAADwAASMAAIAChIaGKjg4WMHBwca2mTNnavjw4erWrZv279+vDz74wHjPyclJkmRvb69y5crJzs7OeG21WpWVlSU3NzetXbu2ZHcEAADgIfBIGgAAQAFcXV3Vs2dPrVu3ztiWnJys2rVrS5KioqIeKr1GjRopMTFRcXFxkqT09HSdOXOm6AoMAABQBAgYAQAAPMArr7yipKQk4/Xo0aP1zjvvKDg4WK6urg+VlpOTkxYvXqz58+crICBAQUFBRvAIAACgrLDLysrKKu1CAAAAAAAAoOxghhEAAAAAAABMCBgBAAAAAADAhIARAAAAAAAATAgYAQAAAAAAwISAEQAAAAAAAEwIGAEAAAAAAMCEgBEAAAAAAABM/h+Avl581NiarwAAAABJRU5ErkJggg==\n",
                "text/plain": "<Figure size 1440x720 with 1 Axes>"
              }
            ],
            "_view_module": "@jupyter-widgets/output",
            "_model_module_version": "1.0.0",
            "_view_count": null,
            "_view_module_version": "1.0.0",
            "layout": "IPY_MODEL_de44ce7593ad440dbc42f08053eb8b9c",
            "_model_module": "@jupyter-widgets/output"
          }
        },
        "b23086758aeb4f4aabd559156674b996": {
          "model_module": "@jupyter-widgets/controls",
          "model_name": "DescriptionStyleModel",
          "state": {
            "_view_name": "StyleView",
            "_model_name": "DescriptionStyleModel",
            "description_width": "",
            "_view_module": "@jupyter-widgets/base",
            "_model_module_version": "1.5.0",
            "_view_count": null,
            "_view_module_version": "1.2.0",
            "_model_module": "@jupyter-widgets/controls"
          }
        },
        "ae63bc96cdcc4bf583b8e824bb6dca7a": {
          "model_module": "@jupyter-widgets/base",
          "model_name": "LayoutModel",
          "state": {
            "_view_name": "LayoutView",
            "grid_template_rows": null,
            "right": null,
            "justify_content": null,
            "_view_module": "@jupyter-widgets/base",
            "overflow": null,
            "_model_module_version": "1.2.0",
            "_view_count": null,
            "flex_flow": null,
            "width": null,
            "min_width": null,
            "border": null,
            "align_items": null,
            "bottom": null,
            "_model_module": "@jupyter-widgets/base",
            "top": null,
            "grid_column": null,
            "overflow_y": null,
            "overflow_x": null,
            "grid_auto_flow": null,
            "grid_area": null,
            "grid_template_columns": null,
            "flex": null,
            "_model_name": "LayoutModel",
            "justify_items": null,
            "grid_row": null,
            "max_height": null,
            "align_content": null,
            "visibility": null,
            "align_self": null,
            "height": null,
            "min_height": null,
            "padding": null,
            "grid_auto_rows": null,
            "grid_gap": null,
            "max_width": null,
            "order": null,
            "_view_module_version": "1.2.0",
            "grid_template_areas": null,
            "object_position": null,
            "object_fit": null,
            "grid_auto_columns": null,
            "margin": null,
            "display": null,
            "left": null
          }
        },
        "de44ce7593ad440dbc42f08053eb8b9c": {
          "model_module": "@jupyter-widgets/base",
          "model_name": "LayoutModel",
          "state": {
            "_view_name": "LayoutView",
            "grid_template_rows": null,
            "right": null,
            "justify_content": null,
            "_view_module": "@jupyter-widgets/base",
            "overflow": null,
            "_model_module_version": "1.2.0",
            "_view_count": null,
            "flex_flow": null,
            "width": null,
            "min_width": null,
            "border": null,
            "align_items": null,
            "bottom": null,
            "_model_module": "@jupyter-widgets/base",
            "top": null,
            "grid_column": null,
            "overflow_y": null,
            "overflow_x": null,
            "grid_auto_flow": null,
            "grid_area": null,
            "grid_template_columns": null,
            "flex": null,
            "_model_name": "LayoutModel",
            "justify_items": null,
            "grid_row": null,
            "max_height": null,
            "align_content": null,
            "visibility": null,
            "align_self": null,
            "height": null,
            "min_height": null,
            "padding": null,
            "grid_auto_rows": null,
            "grid_gap": null,
            "max_width": null,
            "order": null,
            "_view_module_version": "1.2.0",
            "grid_template_areas": null,
            "object_position": null,
            "object_fit": null,
            "grid_auto_columns": null,
            "margin": null,
            "display": null,
            "left": null
          }
        },
        "a9ec7f70e8104e11aa77deca4f81bb0a": {
          "model_module": "@jupyter-widgets/controls",
          "model_name": "VBoxModel",
          "state": {
            "_view_name": "VBoxView",
            "_dom_classes": [
              "widget-interact"
            ],
            "_model_name": "VBoxModel",
            "_view_module": "@jupyter-widgets/controls",
            "_model_module_version": "1.5.0",
            "_view_count": null,
            "_view_module_version": "1.5.0",
            "box_style": "",
            "layout": "IPY_MODEL_cae86056b7c648918fc408dcbb446f47",
            "_model_module": "@jupyter-widgets/controls",
            "children": [
              "IPY_MODEL_c750270d3c5149298517d1de34c80833",
              "IPY_MODEL_b0dc05a91015446988f51e9e9085c180"
            ]
          }
        },
        "cae86056b7c648918fc408dcbb446f47": {
          "model_module": "@jupyter-widgets/base",
          "model_name": "LayoutModel",
          "state": {
            "_view_name": "LayoutView",
            "grid_template_rows": null,
            "right": null,
            "justify_content": null,
            "_view_module": "@jupyter-widgets/base",
            "overflow": null,
            "_model_module_version": "1.2.0",
            "_view_count": null,
            "flex_flow": null,
            "width": null,
            "min_width": null,
            "border": null,
            "align_items": null,
            "bottom": null,
            "_model_module": "@jupyter-widgets/base",
            "top": null,
            "grid_column": null,
            "overflow_y": null,
            "overflow_x": null,
            "grid_auto_flow": null,
            "grid_area": null,
            "grid_template_columns": null,
            "flex": null,
            "_model_name": "LayoutModel",
            "justify_items": null,
            "grid_row": null,
            "max_height": null,
            "align_content": null,
            "visibility": null,
            "align_self": null,
            "height": null,
            "min_height": null,
            "padding": null,
            "grid_auto_rows": null,
            "grid_gap": null,
            "max_width": null,
            "order": null,
            "_view_module_version": "1.2.0",
            "grid_template_areas": null,
            "object_position": null,
            "object_fit": null,
            "grid_auto_columns": null,
            "margin": null,
            "display": null,
            "left": null
          }
        },
        "c750270d3c5149298517d1de34c80833": {
          "model_module": "@jupyter-widgets/controls",
          "model_name": "DropdownModel",
          "state": {
            "_options_labels": [
              "",
              "1980",
              "1981",
              "1982",
              "1983",
              "1984",
              "1985",
              "1986",
              "1987",
              "1988",
              "1989",
              "1990",
              "1991",
              "1992",
              "1993",
              "1994",
              "1995",
              "1996",
              "1997",
              "1998",
              "1999",
              "2000",
              "2001",
              "2002",
              "2003",
              "2004",
              "2005",
              "2006",
              "2007",
              "2008",
              "2009",
              "2010",
              "2011",
              "2012",
              "2013",
              "2014",
              "2015",
              "2016",
              "2017",
              "2018",
              "2019",
              "2020"
            ],
            "_view_name": "DropdownView",
            "style": "IPY_MODEL_222b8288439e4c1b91f4d254e935d31e",
            "_dom_classes": [],
            "description": "Year",
            "_model_name": "DropdownModel",
            "index": 1,
            "_view_module": "@jupyter-widgets/controls",
            "_model_module_version": "1.5.0",
            "_view_count": null,
            "disabled": false,
            "_view_module_version": "1.5.0",
            "description_tooltip": null,
            "_model_module": "@jupyter-widgets/controls",
            "layout": "IPY_MODEL_05491386574c4fa18cd35ed37c813c9b"
          }
        },
        "b0dc05a91015446988f51e9e9085c180": {
          "model_module": "@jupyter-widgets/output",
          "model_name": "OutputModel",
          "state": {
            "_view_name": "OutputView",
            "msg_id": "",
            "_dom_classes": [],
            "_model_name": "OutputModel",
            "outputs": [
              {
                "output_type": "display_data",
                "metadata": {
                  "tags": []
                },
                "text/html": "<div>\n<style scoped>\n    .dataframe tbody tr th:only-of-type {\n        vertical-align: middle;\n    }\n\n    .dataframe tbody tr th {\n        vertical-align: top;\n    }\n\n    .dataframe thead th {\n        text-align: right;\n    }\n</style>\n<table border=\"1\" class=\"dataframe\">\n  <thead>\n    <tr style=\"text-align: right;\">\n      <th></th>\n      <th>Rank</th>\n      <th>Name</th>\n      <th>Platform</th>\n      <th>Year</th>\n      <th>Genre</th>\n      <th>Publisher</th>\n      <th>NA_Sales</th>\n      <th>EU_Sales</th>\n      <th>JP_Sales</th>\n      <th>Other_Sales</th>\n      <th>Global_Sales</th>\n    </tr>\n  </thead>\n  <tbody>\n    <tr>\n      <th>258</th>\n      <td>259</td>\n      <td>Asteroids</td>\n      <td>2600</td>\n      <td>1980.0</td>\n      <td>Shooter</td>\n      <td>Atari</td>\n      <td>4.00</td>\n      <td>0.26</td>\n      <td>0.0</td>\n      <td>0.05</td>\n      <td>4.31</td>\n    </tr>\n    <tr>\n      <th>544</th>\n      <td>545</td>\n      <td>Missile Command</td>\n      <td>2600</td>\n      <td>1980.0</td>\n      <td>Shooter</td>\n      <td>Atari</td>\n      <td>2.56</td>\n      <td>0.17</td>\n      <td>0.0</td>\n      <td>0.03</td>\n      <td>2.76</td>\n    </tr>\n    <tr>\n      <th>1766</th>\n      <td>1768</td>\n      <td>Kaboom!</td>\n      <td>2600</td>\n      <td>1980.0</td>\n      <td>Misc</td>\n      <td>Activision</td>\n      <td>1.07</td>\n      <td>0.07</td>\n      <td>0.0</td>\n      <td>0.01</td>\n      <td>1.15</td>\n    </tr>\n    <tr>\n      <th>1969</th>\n      <td>1971</td>\n      <td>Defender</td>\n      <td>2600</td>\n      <td>1980.0</td>\n      <td>Misc</td>\n      <td>Atari</td>\n      <td>0.99</td>\n      <td>0.05</td>\n      <td>0.0</td>\n      <td>0.01</td>\n      <td>1.05</td>\n    </tr>\n    <tr>\n      <th>2669</th>\n      <td>2671</td>\n      <td>Boxing</td>\n      <td>2600</td>\n      <td>1980.0</td>\n      <td>Fighting</td>\n      <td>Activision</td>\n      <td>0.72</td>\n      <td>0.04</td>\n      <td>0.0</td>\n      <td>0.01</td>\n      <td>0.77</td>\n    </tr>\n    <tr>\n      <th>4025</th>\n      <td>4027</td>\n      <td>Ice Hockey</td>\n      <td>2600</td>\n      <td>1980.0</td>\n      <td>Sports</td>\n      <td>Activision</td>\n      <td>0.46</td>\n      <td>0.03</td>\n      <td>0.0</td>\n      <td>0.01</td>\n      <td>0.49</td>\n    </tr>\n    <tr>\n      <th>5366</th>\n      <td>5368</td>\n      <td>Freeway</td>\n      <td>2600</td>\n      <td>1980.0</td>\n      <td>Action</td>\n      <td>Activision</td>\n      <td>0.32</td>\n      <td>0.02</td>\n      <td>0.0</td>\n      <td>0.00</td>\n      <td>0.34</td>\n    </tr>\n    <tr>\n      <th>6317</th>\n      <td>6319</td>\n      <td>Bridge</td>\n      <td>2600</td>\n      <td>1980.0</td>\n      <td>Misc</td>\n      <td>Activision</td>\n      <td>0.25</td>\n      <td>0.02</td>\n      <td>0.0</td>\n      <td>0.00</td>\n      <td>0.27</td>\n    </tr>\n    <tr>\n      <th>6896</th>\n      <td>6898</td>\n      <td>Checkers</td>\n      <td>2600</td>\n      <td>1980.0</td>\n      <td>Misc</td>\n      <td>Atari</td>\n      <td>0.22</td>\n      <td>0.01</td>\n      <td>0.0</td>\n      <td>0.00</td>\n      <td>0.24</td>\n    </tr>\n  </tbody>\n</table>\n</div>",
                "text/plain": "      Rank             Name Platform  ...  JP_Sales Other_Sales Global_Sales\n258    259        Asteroids     2600  ...       0.0        0.05         4.31\n544    545  Missile Command     2600  ...       0.0        0.03         2.76\n1766  1768          Kaboom!     2600  ...       0.0        0.01         1.15\n1969  1971         Defender     2600  ...       0.0        0.01         1.05\n2669  2671           Boxing     2600  ...       0.0        0.01         0.77\n4025  4027       Ice Hockey     2600  ...       0.0        0.01         0.49\n5366  5368          Freeway     2600  ...       0.0        0.00         0.34\n6317  6319           Bridge     2600  ...       0.0        0.00         0.27\n6896  6898         Checkers     2600  ...       0.0        0.00         0.24\n\n[9 rows x 11 columns]"
              },
              {
                "output_type": "display_data",
                "metadata": {
                  "tags": []
                },
                "image/png": "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\n",
                "text/plain": "<Figure size 1296x720 with 1 Axes>"
              }
            ],
            "_view_module": "@jupyter-widgets/output",
            "_model_module_version": "1.0.0",
            "_view_count": null,
            "_view_module_version": "1.0.0",
            "layout": "IPY_MODEL_ae305829c0124bca98cababe6a781215",
            "_model_module": "@jupyter-widgets/output"
          }
        },
        "222b8288439e4c1b91f4d254e935d31e": {
          "model_module": "@jupyter-widgets/controls",
          "model_name": "DescriptionStyleModel",
          "state": {
            "_view_name": "StyleView",
            "_model_name": "DescriptionStyleModel",
            "description_width": "",
            "_view_module": "@jupyter-widgets/base",
            "_model_module_version": "1.5.0",
            "_view_count": null,
            "_view_module_version": "1.2.0",
            "_model_module": "@jupyter-widgets/controls"
          }
        },
        "05491386574c4fa18cd35ed37c813c9b": {
          "model_module": "@jupyter-widgets/base",
          "model_name": "LayoutModel",
          "state": {
            "_view_name": "LayoutView",
            "grid_template_rows": null,
            "right": null,
            "justify_content": null,
            "_view_module": "@jupyter-widgets/base",
            "overflow": null,
            "_model_module_version": "1.2.0",
            "_view_count": null,
            "flex_flow": null,
            "width": null,
            "min_width": null,
            "border": null,
            "align_items": null,
            "bottom": null,
            "_model_module": "@jupyter-widgets/base",
            "top": null,
            "grid_column": null,
            "overflow_y": null,
            "overflow_x": null,
            "grid_auto_flow": null,
            "grid_area": null,
            "grid_template_columns": null,
            "flex": null,
            "_model_name": "LayoutModel",
            "justify_items": null,
            "grid_row": null,
            "max_height": null,
            "align_content": null,
            "visibility": null,
            "align_self": null,
            "height": null,
            "min_height": null,
            "padding": null,
            "grid_auto_rows": null,
            "grid_gap": null,
            "max_width": null,
            "order": null,
            "_view_module_version": "1.2.0",
            "grid_template_areas": null,
            "object_position": null,
            "object_fit": null,
            "grid_auto_columns": null,
            "margin": null,
            "display": null,
            "left": null
          }
        },
        "ae305829c0124bca98cababe6a781215": {
          "model_module": "@jupyter-widgets/base",
          "model_name": "LayoutModel",
          "state": {
            "_view_name": "LayoutView",
            "grid_template_rows": null,
            "right": null,
            "justify_content": null,
            "_view_module": "@jupyter-widgets/base",
            "overflow": null,
            "_model_module_version": "1.2.0",
            "_view_count": null,
            "flex_flow": null,
            "width": null,
            "min_width": null,
            "border": null,
            "align_items": null,
            "bottom": null,
            "_model_module": "@jupyter-widgets/base",
            "top": null,
            "grid_column": null,
            "overflow_y": null,
            "overflow_x": null,
            "grid_auto_flow": null,
            "grid_area": null,
            "grid_template_columns": null,
            "flex": null,
            "_model_name": "LayoutModel",
            "justify_items": null,
            "grid_row": null,
            "max_height": null,
            "align_content": null,
            "visibility": null,
            "align_self": null,
            "height": null,
            "min_height": null,
            "padding": null,
            "grid_auto_rows": null,
            "grid_gap": null,
            "max_width": null,
            "order": null,
            "_view_module_version": "1.2.0",
            "grid_template_areas": null,
            "object_position": null,
            "object_fit": null,
            "grid_auto_columns": null,
            "margin": null,
            "display": null,
            "left": null
          }
        }
      }
    }
  },
  "cells": [
    {
      "cell_type": "markdown",
      "metadata": {
        "id": "F9paIJCL8ZIN",
        "colab_type": "text"
      },
      "source": [
        "# Video Game Sales Data Analysis"
      ]
    },
    {
      "cell_type": "markdown",
      "metadata": {
        "id": "8vOUzL3l5oGR",
        "colab_type": "text"
      },
      "source": [
        "## Reading 'vgsales.csv' file\n",
        "The 'Video Game Sales' dataset is read into a dataframe from a GitHub repository (using a URL)\n",
        "\n",
        "The first 5 rows are shown to indiciate the dataset has been successfully read:"
      ]
    },
    {
      "cell_type": "code",
      "metadata": {
        "colab_type": "code",
        "id": "YCMcv24S5mVk",
        "colab": {
          "base_uri": "https://localhost:8080/",
          "height": 204
        },
        "outputId": "7a321ff0-d815-48ae-b458-6570d44563f7"
      },
      "source": [
        "import pandas as pd\n",
        "url = 'https://raw.githubusercontent.com/DanielPitfield/Python_Data_Science/master/vgsales.csv'\n",
        "sales = pd.read_csv(url) # Read data\n",
        "sales.head() # Return first 5 rows"
      ],
      "execution_count": 48,
      "outputs": [
        {
          "output_type": "execute_result",
          "data": {
            "text/html": [
              "<div>\n",
              "<style scoped>\n",
              "    .dataframe tbody tr th:only-of-type {\n",
              "        vertical-align: middle;\n",
              "    }\n",
              "\n",
              "    .dataframe tbody tr th {\n",
              "        vertical-align: top;\n",
              "    }\n",
              "\n",
              "    .dataframe thead th {\n",
              "        text-align: right;\n",
              "    }\n",
              "</style>\n",
              "<table border=\"1\" class=\"dataframe\">\n",
              "  <thead>\n",
              "    <tr style=\"text-align: right;\">\n",
              "      <th></th>\n",
              "      <th>Rank</th>\n",
              "      <th>Name</th>\n",
              "      <th>Platform</th>\n",
              "      <th>Year</th>\n",
              "      <th>Genre</th>\n",
              "      <th>Publisher</th>\n",
              "      <th>NA_Sales</th>\n",
              "      <th>EU_Sales</th>\n",
              "      <th>JP_Sales</th>\n",
              "      <th>Other_Sales</th>\n",
              "      <th>Global_Sales</th>\n",
              "    </tr>\n",
              "  </thead>\n",
              "  <tbody>\n",
              "    <tr>\n",
              "      <th>0</th>\n",
              "      <td>1</td>\n",
              "      <td>Wii Sports</td>\n",
              "      <td>Wii</td>\n",
              "      <td>2006.0</td>\n",
              "      <td>Sports</td>\n",
              "      <td>Nintendo</td>\n",
              "      <td>41.49</td>\n",
              "      <td>29.02</td>\n",
              "      <td>3.77</td>\n",
              "      <td>8.46</td>\n",
              "      <td>82.74</td>\n",
              "    </tr>\n",
              "    <tr>\n",
              "      <th>1</th>\n",
              "      <td>2</td>\n",
              "      <td>Super Mario Bros.</td>\n",
              "      <td>NES</td>\n",
              "      <td>1985.0</td>\n",
              "      <td>Platform</td>\n",
              "      <td>Nintendo</td>\n",
              "      <td>29.08</td>\n",
              "      <td>3.58</td>\n",
              "      <td>6.81</td>\n",
              "      <td>0.77</td>\n",
              "      <td>40.24</td>\n",
              "    </tr>\n",
              "    <tr>\n",
              "      <th>2</th>\n",
              "      <td>3</td>\n",
              "      <td>Mario Kart Wii</td>\n",
              "      <td>Wii</td>\n",
              "      <td>2008.0</td>\n",
              "      <td>Racing</td>\n",
              "      <td>Nintendo</td>\n",
              "      <td>15.85</td>\n",
              "      <td>12.88</td>\n",
              "      <td>3.79</td>\n",
              "      <td>3.31</td>\n",
              "      <td>35.82</td>\n",
              "    </tr>\n",
              "    <tr>\n",
              "      <th>3</th>\n",
              "      <td>4</td>\n",
              "      <td>Wii Sports Resort</td>\n",
              "      <td>Wii</td>\n",
              "      <td>2009.0</td>\n",
              "      <td>Sports</td>\n",
              "      <td>Nintendo</td>\n",
              "      <td>15.75</td>\n",
              "      <td>11.01</td>\n",
              "      <td>3.28</td>\n",
              "      <td>2.96</td>\n",
              "      <td>33.00</td>\n",
              "    </tr>\n",
              "    <tr>\n",
              "      <th>4</th>\n",
              "      <td>5</td>\n",
              "      <td>Pokemon Red/Pokemon Blue</td>\n",
              "      <td>GB</td>\n",
              "      <td>1996.0</td>\n",
              "      <td>Role-Playing</td>\n",
              "      <td>Nintendo</td>\n",
              "      <td>11.27</td>\n",
              "      <td>8.89</td>\n",
              "      <td>10.22</td>\n",
              "      <td>1.00</td>\n",
              "      <td>31.37</td>\n",
              "    </tr>\n",
              "  </tbody>\n",
              "</table>\n",
              "</div>"
            ],
            "text/plain": [
              "   Rank                      Name Platform  ...  JP_Sales Other_Sales Global_Sales\n",
              "0     1                Wii Sports      Wii  ...      3.77        8.46        82.74\n",
              "1     2         Super Mario Bros.      NES  ...      6.81        0.77        40.24\n",
              "2     3            Mario Kart Wii      Wii  ...      3.79        3.31        35.82\n",
              "3     4         Wii Sports Resort      Wii  ...      3.28        2.96        33.00\n",
              "4     5  Pokemon Red/Pokemon Blue       GB  ...     10.22        1.00        31.37\n",
              "\n",
              "[5 rows x 11 columns]"
            ]
          },
          "metadata": {
            "tags": []
          },
          "execution_count": 48
        }
      ]
    },
    {
      "cell_type": "markdown",
      "metadata": {
        "id": "EVgNvtxP6TpS",
        "colab_type": "text"
      },
      "source": [
        "## Missing values\n",
        "The number of missing values for each column in the dataset is next identified:"
      ]
    },
    {
      "cell_type": "code",
      "metadata": {
        "id": "8YOqtVjC4NiY",
        "colab_type": "code",
        "colab": {
          "base_uri": "https://localhost:8080/",
          "height": 221
        },
        "outputId": "b2a4a806-8f24-4b76-ce0a-b48e9fdad8ca"
      },
      "source": [
        "sales.isnull().sum()"
      ],
      "execution_count": 49,
      "outputs": [
        {
          "output_type": "execute_result",
          "data": {
            "text/plain": [
              "Rank              0\n",
              "Name              0\n",
              "Platform          0\n",
              "Year            271\n",
              "Genre             0\n",
              "Publisher        58\n",
              "NA_Sales          0\n",
              "EU_Sales          0\n",
              "JP_Sales          0\n",
              "Other_Sales       0\n",
              "Global_Sales      0\n",
              "dtype: int64"
            ]
          },
          "metadata": {
            "tags": []
          },
          "execution_count": 49
        }
      ]
    },
    {
      "cell_type": "markdown",
      "metadata": {
        "id": "hdQ92R6w6cl3",
        "colab_type": "text"
      },
      "source": [
        "The 'Year' value for 271 games is missing\n",
        "\n",
        "The 'Publisher' value for 58 games is missing"
      ]
    },
    {
      "cell_type": "markdown",
      "metadata": {
        "id": "gow1j2Vr7Nhl",
        "colab_type": "text"
      },
      "source": [
        "## Distribution of Global Sales variable (Histogram)"
      ]
    },
    {
      "cell_type": "code",
      "metadata": {
        "scrolled": true,
        "id": "EVlEvVeF2gtf",
        "colab_type": "code",
        "colab": {
          "base_uri": "https://localhost:8080/",
          "height": 312
        },
        "outputId": "6cbf041e-4eda-4cd4-8f54-fb98680c6926"
      },
      "source": [
        "%matplotlib inline\n",
        "import matplotlib.pyplot as plt\n",
        "\n",
        "plt.hist(sales['Global_Sales'],bins=20)\n",
        "plt.title('Histogram of Global Sales variable')\n",
        "plt.xlabel('Global Sales (in millions)')\n",
        "plt.ylabel('Frequency')"
      ],
      "execution_count": 50,
      "outputs": [
        {
          "output_type": "execute_result",
          "data": {
            "text/plain": [
              "Text(0, 0.5, 'Frequency')"
            ]
          },
          "metadata": {
            "tags": []
          },
          "execution_count": 50
        },
        {
          "output_type": "display_data",
          "data": {
            "image/png": "[encoded data removed]",
            "text/plain": [
              "<Figure size 432x288 with 1 Axes>"
            ]
          },
          "metadata": {
            "tags": [],
            "needs_background": "light"
          }
        }
      ]
    },
    {
      "cell_type": "markdown",
      "metadata": {
        "id": "8NHoHmDj7Wsc",
        "colab_type": "text"
      },
      "source": [
        "## Distribution of Global Sales variable (Boxplot)"
      ]
    },
    {
      "cell_type": "code",
      "metadata": {
        "id": "znpXYxyZ2gtm",
        "colab_type": "code",
        "colab": {
          "base_uri": "https://localhost:8080/",
          "height": 280
        },
        "outputId": "60e7ef4d-f76b-4040-b427-52a9f20e104e"
      },
      "source": [
        "import seaborn as sns\n",
        "\n",
        "sns.set_style(\"whitegrid\")\n",
        "ax = sns.boxplot(x='Global_Sales', data=sales, width=0.8)"
      ],
      "execution_count": 51,
      "outputs": [
        {
          "output_type": "display_data",
          "data": {
            "image/png": "[encoded data removed]",
            "text/plain": [
              "<Figure size 432x288 with 1 Axes>"
            ]
          },
          "metadata": {
            "tags": []
          }
        }
      ]
    },
    {
      "cell_type": "markdown",
      "metadata": {
        "id": "cCb9YeJTT0dK",
        "colab_type": "text"
      },
      "source": [
        "## Platform - Global Sales"
      ]
    },
    {
      "cell_type": "code",
      "metadata": {
        "colab_type": "code",
        "id": "ybhNEpYFTw3w",
        "colab": {
          "base_uri": "https://localhost:8080/",
          "height": 621
        },
        "outputId": "42bd3b68-5b38-4e7b-c809-908176c32aba"
      },
      "source": [
        "Platforms = pd.unique(sales['Platform'])\n",
        "TotalSales = []\n",
        "\n",
        "for x in Platforms:\n",
        "  TotalSales.append(sales[sales['Platform'] == x]['Global_Sales'].sum())\n",
        "\n",
        "plt.figure(figsize=(20,10))\n",
        "plt.xlabel('Platform')\n",
        "plt.ylabel('Global Sales (in millions')\n",
        "plt.title('Global Sales of all games by platform')\n",
        "plt.bar(Platforms, TotalSales)\n",
        "plt.show()"
      ],
      "execution_count": 52,
      "outputs": [
        {
          "output_type": "display_data",
          "data": {
            "image/png": "[encoded data removed]",
            "text/plain": [
              "<Figure size 1440x720 with 1 Axes>"
            ]
          },
          "metadata": {
            "tags": []
          }
        }
      ]
    },
    {
      "cell_type": "markdown",
      "metadata": {
        "id": "bLIBQD61QdDi",
        "colab_type": "text"
      },
      "source": [
        "## Search for video game (by name)\n",
        "Enter a search term in the field and press 'Enter'\n",
        "\n",
        "(All video games including that search term will be returned) "
      ]
    },
    {
      "cell_type": "code",
      "metadata": {
        "id": "0CqNDNbCI5VM",
        "colab_type": "code",
        "colab": {
          "base_uri": "https://localhost:8080/",
          "height": 515,
          "referenced_widgets": [
            "662f487997f44ff899ace567e8171072",
            "858602159ce84c26b7da9e4b517aa24f",
            "330d1b58b5cb43bfb008982bd9f278f5",
            "611461a7bb084978b500b87e3de9d9d9",
            "436815d1ad604f6ba2e1bc9d73ccba83",
            "87011a7f24264190a9d167e461f44028",
            "6157e31021e947e29846e0c0acb22d68"
          ]
        },
        "outputId": "718d2d30-f022-4eb6-eec7-dab16da6f1b8"
      },
      "source": [
        "import ipywidgets as widgets\n",
        "from ipywidgets import interact\n",
        "from IPython.display import clear_output\n",
        "\n",
        "def display_name(Name):\n",
        "    clear_output(wait=True) # Clear previous output (if any)\n",
        "    if Name != \"\":\n",
        "      display(sales[sales['Name'].str.contains(Name, case=False)])\n",
        "\n",
        "interact(display_name, Name='');"
      ],
      "execution_count": 53,
      "outputs": [
        {
          "output_type": "display_data",
          "data": {
            "application/vnd.jupyter.widget-view+json": {
              "model_id": "662f487997f44ff899ace567e8171072",
              "version_minor": 0,
              "version_major": 2
            },
            "text/plain": [
              "interactive(children=(Text(value='', description='Name'), Output()), _dom_classes=('widget-interact',))"
            ]
          },
          "metadata": {
            "tags": []
          }
        }
      ]
    },
    {
      "cell_type": "markdown",
      "metadata": {
        "id": "Hc9DDWmrR4MR",
        "colab_type": "text"
      },
      "source": [
        "## Platform Sales - Region Distribution\n",
        "Select a platform from the dropdown list\n",
        "\n",
        "(A pie chart showing the regional distirbution of sales for the chosen platform will be displayed) "
      ]
    },
    {
      "cell_type": "code",
      "metadata": {
        "id": "2przjNtBQZhH",
        "colab_type": "code",
        "colab": {
          "base_uri": "https://localhost:8080/",
          "height": 296,
          "referenced_widgets": [
            "1d81d67d629c4defa847fe4c7ba64fcb",
            "17cfa5fc03c1499683654c152aa678b6",
            "aa55b70257fa4efab54df88619fe3ac2",
            "3e5ae44629884972bce9d81b36f71c76",
            "b0f416e6a65741b0a55ecd69a9824b18",
            "4d128a7bac824088bf4b73331f29034e",
            "800c442bcae44db3b79d9eadde945062"
          ]
        },
        "outputId": "cac734f9-61bc-4ca2-c7fa-063b83b59bfe"
      },
      "source": [
        "import numpy as np\n",
        "\n",
        "labels = 'NA', 'EU', 'JP', 'Other'\n",
        "sizes = []\n",
        "colors = ['gold', 'yellowgreen', 'lightcoral', 'lightskyblue']\n",
        "\n",
        "Platforms = np.append(\"\", pd.unique(sales['Platform']))\n",
        "\n",
        "def display_platform_sales(Platform):\n",
        "    if Platform != \"\":\n",
        "        sizes = [] # Reset this array\n",
        "        clear_output(wait=True) # Clear previous output (if any)\n",
        "\n",
        "        Total_Sales = sales[sales['Platform'] == Platform]['Global_Sales'].sum()\n",
        "\n",
        "        NA_Sales = sales[sales['Platform'] == Platform]['NA_Sales'].sum()\n",
        "        sizes.append((NA_Sales/Total_Sales)*100) # Percentage of Total Sales that are NA Sales\n",
        "\n",
        "        EU_Sales = sales[sales['Platform'] == Platform]['EU_Sales'].sum()\n",
        "        sizes.append((EU_Sales/Total_Sales)*100)\n",
        "\n",
        "        JP_Sales = sales[sales['Platform'] == Platform]['JP_Sales'].sum()\n",
        "        sizes.append((JP_Sales/Total_Sales)*100)\n",
        "\n",
        "        Other_Sales = sales[sales['Platform'] == Platform]['Other_Sales'].sum()\n",
        "        sizes.append((Other_Sales/Total_Sales)*100)\n",
        "\n",
        "        # Plot\n",
        "        plt.pie(sizes, labels=labels, autopct='%1.1f%%', shadow=True, startangle=0)\n",
        "        plt.axis('equal')\n",
        "        plt.title(Platform)\n",
        "        plt.show()\n",
        "\n",
        "interact(display_platform_sales, Platform=Platforms);"
      ],
      "execution_count": 54,
      "outputs": [
        {
          "output_type": "display_data",
          "data": {
            "application/vnd.jupyter.widget-view+json": {
              "model_id": "1d81d67d629c4defa847fe4c7ba64fcb",
              "version_minor": 0,
              "version_major": 2
            },
            "text/plain": [
              "interactive(children=(Dropdown(description='Platform', options=('', 'Wii', 'NES', 'GB', 'DS', 'X360', 'PS3', '…"
            ]
          },
          "metadata": {
            "tags": []
          }
        }
      ]
    },
    {
      "cell_type": "markdown",
      "metadata": {
        "id": "-wjD3bZe2HYo",
        "colab_type": "text"
      },
      "source": [
        "## Top 10 Best Selling Games (Platform)"
      ]
    },
    {
      "cell_type": "code",
      "metadata": {
        "colab_type": "code",
        "id": "HvSuu5Mp1_Cg",
        "colab": {
          "base_uri": "https://localhost:8080/",
          "height": 653,
          "referenced_widgets": [
            "a5df479ac14e49f1885cdd339ec27958",
            "7a85271ff7e0481ab9dd30907e034785",
            "4508a5208a9a40c0b7596f1ba7fe96fc",
            "0d54db065f7342d19fcfcda3e62fcca2",
            "b23086758aeb4f4aabd559156674b996",
            "ae63bc96cdcc4bf583b8e824bb6dca7a",
            "de44ce7593ad440dbc42f08053eb8b9c"
          ]
        },
        "outputId": "f5e786a3-efc7-47fc-fca0-300679148020"
      },
      "source": [
        "def display_platform_top10(Platform):\n",
        "    if Platform != \"\":\n",
        "        num_rows = 0\n",
        "        clear_output(wait=True) # Clear previous output (if any)\n",
        "\n",
        "        sales_filter_platform = sales[sales['Platform'] == Platform].nlargest(10, 'Global_Sales')\n",
        "        num_rows = sales_filter_platform.shape[0] # Number of rows in filtered dataset\n",
        "\n",
        "        if num_rows > 0: # At least one row for that year\n",
        "          #display(sales_filter_platform)\n",
        "\n",
        "          bar_title = \"Top 10 Best Selling Games on \" + str(Platform)\n",
        "          x_width = num_rows * 2 # Chnage graph width based on number of rows (0-10 rows possible)\n",
        "\n",
        "          ax_platform = sales_filter_platform.plot(x='Name', y='Global_Sales', kind='bar', title = bar_title, legend=False, figsize=(x_width, 10))\n",
        "\n",
        "          ax_platform.set_xlabel('Name')\n",
        "          ax_platform.tick_params(axis='x', labelrotation=0) # Horizontal bar labels for x axis\n",
        "          ax_platform.set_ylabel('Global Sales (in millions')\n",
        "          ax_platform.plot()\n",
        "        else:\n",
        "          print(\"No games for that platform\")\n",
        "\n",
        "interact(display_platform_top10, Platform=Platforms);"
      ],
      "execution_count": 55,
      "outputs": [
        {
          "output_type": "display_data",
          "data": {
            "application/vnd.jupyter.widget-view+json": {
              "model_id": "a5df479ac14e49f1885cdd339ec27958",
              "version_minor": 0,
              "version_major": 2
            },
            "text/plain": [
              "interactive(children=(Dropdown(description='Platform', options=('', 'Wii', 'NES', 'GB', 'DS', 'X360', 'PS3', '…"
            ]
          },
          "metadata": {
            "tags": []
          }
        }
      ]
    },
    {
      "cell_type": "markdown",
      "metadata": {
        "id": "BoA6O49oUtzf",
        "colab_type": "text"
      },
      "source": [
        "## Top 10 Best Selling Games (Year)"
      ]
    },
    {
      "cell_type": "code",
      "metadata": {
        "id": "2-KW5FgDUzn_",
        "colab_type": "code",
        "colab": {
          "base_uri": "https://localhost:8080/",
          "height": 964,
          "referenced_widgets": [
            "a9ec7f70e8104e11aa77deca4f81bb0a",
            "cae86056b7c648918fc408dcbb446f47",
            "c750270d3c5149298517d1de34c80833",
            "b0dc05a91015446988f51e9e9085c180",
            "222b8288439e4c1b91f4d254e935d31e",
            "05491386574c4fa18cd35ed37c813c9b",
            "ae305829c0124bca98cababe6a781215"
          ]
        },
        "outputId": "1f4e262b-a89d-4ba1-cc8c-03c0b1c853a5"
      },
      "source": [
        "Years = [\"\"]\n",
        "for x in range (1980, 2021): # Change to use minimum and maximum values of dataset not hardcoded values\n",
        "  Years.append(x)\n",
        "\n",
        "def display_year_top10(Year):\n",
        "    if Year != \"\":\n",
        "        num_rows = 0\n",
        "        clear_output(wait=True)\n",
        "\n",
        "        sales_filter_year = sales[sales['Year'] == Year].nlargest(10, 'Global_Sales')\n",
        "        num_rows = sales_filter_year.shape[0] # Number of rows in filtered dataset\n",
        "\n",
        "        if num_rows > 0: # At least one row for that year\n",
        "          #display(sales_filter_year)\n",
        "\n",
        "          bar_title = \"Top 10 Best Selling Games in \" + str(Year)\n",
        "          x_width = num_rows * 2 # Chnage graph width based on number of rows (0-10 rows possible)\n",
        "\n",
        "          ax = sales_filter_year.plot(x='Name', y='Global_Sales', kind='bar', title = bar_title, legend=False, figsize=(x_width, 10))\n",
        "\n",
        "          ax.set_xlabel('Name')\n",
        "          ax.tick_params(axis='x', labelrotation=0) # Horizontal bar labels for x axis\n",
        "          ax.set_ylabel('Global Sales (in millions')\n",
        "          ax.plot()\n",
        "        else:\n",
        "          print(\"No games for that year\")\n",
        "\n",
        "interact(display_year_top10, Year=Years);   "
      ],
      "execution_count": 56,
      "outputs": [
        {
          "output_type": "display_data",
          "data": {
            "application/vnd.jupyter.widget-view+json": {
              "model_id": "a9ec7f70e8104e11aa77deca4f81bb0a",
              "version_minor": 0,
              "version_major": 2
            },
            "text/plain": [
              "interactive(children=(Dropdown(description='Year', options=('', 1980, 1981, 1982, 1983, 1984, 1985, 1986, 1987…"
            ]
          },
          "metadata": {
            "tags": []
          }
        }
      ]
    },
    {
      "cell_type": "markdown",
      "metadata": {
        "id": "oL6_eGnhYJCc",
        "colab_type": "text"
      },
      "source": [
        "## Platform Genre Sales"
      ]
    }
  ]
}